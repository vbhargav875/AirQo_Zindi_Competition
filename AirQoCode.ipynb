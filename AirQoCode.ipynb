{
 "cells": [
  {
   "cell_type": "code",
   "execution_count": 0,
   "metadata": {
    "colab": {
     "base_uri": "https://localhost:8080/",
     "height": 71
    },
    "colab_type": "code",
    "id": "gbDCOFQeOu19",
    "outputId": "aa31fa53-d14a-49eb-98c3-1dc5748c3663"
   },
   "outputs": [
    {
     "name": "stderr",
     "output_type": "stream",
     "text": [
      "/usr/local/lib/python3.6/dist-packages/statsmodels/tools/_testing.py:19: FutureWarning: pandas.util.testing is deprecated. Use the functions in the public API at pandas.testing instead.\n",
      "  import pandas.util.testing as tm\n"
     ]
    }
   ],
   "source": [
    "import pandas as pd\n",
    "import numpy as np\n",
    "import matplotlib.pyplot as plt\n",
    "import seaborn as sns\n",
    "import warnings\n",
    "warnings.filterwarnings('ignore')\n",
    "\n",
    "from tqdm import tqdm\n",
    "from math import sqrt \n",
    "import lightgbm as lgb\n",
    "from sklearn.metrics import mean_squared_error \n",
    "from sklearn.model_selection import KFold, train_test_split\n",
    "from sklearn.model_selection import GridSearchCV\n",
    "from lightgbm import LGBMRegressor\n",
    "from catboost import CatBoostRegressor\n",
    "from sklearn.preprocessing import StandardScaler"
   ]
  },
  {
   "cell_type": "code",
   "execution_count": 0,
   "metadata": {
    "colab": {},
    "colab_type": "code",
    "id": "Hrob1xytOu2I"
   },
   "outputs": [],
   "source": [
    "train = pd.read_csv(\"/content/drive/My Drive/Datasets/AirQo/trainprevnull.csv\")\n",
    "test = pd.read_csv(\"/content/drive/My Drive/Datasets/AirQo/testprevnull.csv\")\n",
    "sample_sub = pd.read_csv(\"/content/drive/My Drive/Datasets/AirQo/sample_sub.csv\")"
   ]
  },
  {
   "cell_type": "code",
   "execution_count": 0,
   "metadata": {
    "colab": {
     "base_uri": "https://localhost:8080/",
     "height": 51
    },
    "colab_type": "code",
    "id": "TPdUku8MOu2R",
    "outputId": "aa08e1c8-41f0-4b88-ed0d-b3ef72b3c42e"
   },
   "outputs": [
    {
     "name": "stdout",
     "output_type": "stream",
     "text": [
      "(15539, 771)\n",
      "(5035, 770)\n"
     ]
    }
   ],
   "source": [
    "print(train.shape)\n",
    "print(test.shape)"
   ]
  },
  {
   "cell_type": "code",
   "execution_count": 0,
   "metadata": {
    "colab": {
     "base_uri": "https://localhost:8080/",
     "height": 253
    },
    "colab_type": "code",
    "id": "UDMdRTP0Ou2Y",
    "outputId": "d10215ab-258a-477f-a811-af9d4f498971"
   },
   "outputs": [
    {
     "data": {
      "text/html": [
       "<div>\n",
       "<style scoped>\n",
       "    .dataframe tbody tr th:only-of-type {\n",
       "        vertical-align: middle;\n",
       "    }\n",
       "\n",
       "    .dataframe tbody tr th {\n",
       "        vertical-align: top;\n",
       "    }\n",
       "\n",
       "    .dataframe thead th {\n",
       "        text-align: right;\n",
       "    }\n",
       "</style>\n",
       "<table border=\"1\" class=\"dataframe\">\n",
       "  <thead>\n",
       "    <tr style=\"text-align: right;\">\n",
       "      <th></th>\n",
       "      <th>ID</th>\n",
       "      <th>location</th>\n",
       "      <th>target</th>\n",
       "      <th>newtemp0</th>\n",
       "      <th>newrel_humidity0</th>\n",
       "      <th>newwind_dir0</th>\n",
       "      <th>windspeed0</th>\n",
       "      <th>atmospherepressure0</th>\n",
       "      <th>newtemp1</th>\n",
       "      <th>newrel_humidity1</th>\n",
       "      <th>newwind_dir1</th>\n",
       "      <th>windspeed1</th>\n",
       "      <th>atmospherepressure1</th>\n",
       "      <th>newtemp2</th>\n",
       "      <th>newrel_humidity2</th>\n",
       "      <th>newwind_dir2</th>\n",
       "      <th>windspeed2</th>\n",
       "      <th>atmospherepressure2</th>\n",
       "      <th>newtemp3</th>\n",
       "      <th>newrel_humidity3</th>\n",
       "      <th>newwind_dir3</th>\n",
       "      <th>windspeed3</th>\n",
       "      <th>atmospherepressure3</th>\n",
       "      <th>newtemp4</th>\n",
       "      <th>newrel_humidity4</th>\n",
       "      <th>newwind_dir4</th>\n",
       "      <th>windspeed4</th>\n",
       "      <th>atmospherepressure4</th>\n",
       "      <th>newtemp5</th>\n",
       "      <th>newrel_humidity5</th>\n",
       "      <th>newwind_dir5</th>\n",
       "      <th>windspeed5</th>\n",
       "      <th>atmospherepressure5</th>\n",
       "      <th>newtemp6</th>\n",
       "      <th>newrel_humidity6</th>\n",
       "      <th>newwind_dir6</th>\n",
       "      <th>windspeed6</th>\n",
       "      <th>atmospherepressure6</th>\n",
       "      <th>newtemp7</th>\n",
       "      <th>newrel_humidity7</th>\n",
       "      <th>newwind_dir7</th>\n",
       "      <th>windspeed7</th>\n",
       "      <th>atmospherepressure7</th>\n",
       "      <th>newtemp8</th>\n",
       "      <th>newrel_humidity8</th>\n",
       "      <th>newwind_dir8</th>\n",
       "      <th>windspeed8</th>\n",
       "      <th>atmospherepressure8</th>\n",
       "      <th>newtemp9</th>\n",
       "      <th>newrel_humidity9</th>\n",
       "      <th>...</th>\n",
       "      <th>newtemp120</th>\n",
       "      <th>newrel_humidity120</th>\n",
       "      <th>newwind_dir120</th>\n",
       "      <th>windspeed120</th>\n",
       "      <th>atmospherepressure120</th>\n",
       "      <th>max_temp</th>\n",
       "      <th>min_temp</th>\n",
       "      <th>mean_temp</th>\n",
       "      <th>std_temp</th>\n",
       "      <th>var_temp</th>\n",
       "      <th>median_temp</th>\n",
       "      <th>ptp_temp</th>\n",
       "      <th>max_precip</th>\n",
       "      <th>min_precip</th>\n",
       "      <th>mean_precip</th>\n",
       "      <th>std_precip</th>\n",
       "      <th>var_precip</th>\n",
       "      <th>median_precip</th>\n",
       "      <th>ptp_precip</th>\n",
       "      <th>max_rel_humidity</th>\n",
       "      <th>min_rel_humidity</th>\n",
       "      <th>mean_rel_humidity</th>\n",
       "      <th>std_rel_humidity</th>\n",
       "      <th>var_rel_humidity</th>\n",
       "      <th>median_rel_humidity</th>\n",
       "      <th>ptp_rel_humidity</th>\n",
       "      <th>max_wind_dir</th>\n",
       "      <th>min_wind_dir</th>\n",
       "      <th>mean_wind_dir</th>\n",
       "      <th>std_wind_dir</th>\n",
       "      <th>var_wind_dir</th>\n",
       "      <th>median_wind_dir</th>\n",
       "      <th>ptp_wind_dir</th>\n",
       "      <th>max_wind_spd</th>\n",
       "      <th>min_wind_spd</th>\n",
       "      <th>mean_wind_spd</th>\n",
       "      <th>std_wind_spd</th>\n",
       "      <th>var_wind_spd</th>\n",
       "      <th>median_wind_spd</th>\n",
       "      <th>ptp_wind_spd</th>\n",
       "      <th>max_atmos_press</th>\n",
       "      <th>min_atmos_press</th>\n",
       "      <th>mean_atmos_press</th>\n",
       "      <th>std_atmos_press</th>\n",
       "      <th>var_atmos_press</th>\n",
       "      <th>median_atmos_press</th>\n",
       "      <th>ptp_atmos_press</th>\n",
       "      <th>weight</th>\n",
       "      <th>weight_wind</th>\n",
       "      <th>weight_winddir</th>\n",
       "    </tr>\n",
       "  </thead>\n",
       "  <tbody>\n",
       "    <tr>\n",
       "      <th>0</th>\n",
       "      <td>ID_train_0</td>\n",
       "      <td>2</td>\n",
       "      <td>45.126304</td>\n",
       "      <td>NaN</td>\n",
       "      <td>NaN</td>\n",
       "      <td>NaN</td>\n",
       "      <td>NaN</td>\n",
       "      <td>NaN</td>\n",
       "      <td>NaN</td>\n",
       "      <td>NaN</td>\n",
       "      <td>NaN</td>\n",
       "      <td>NaN</td>\n",
       "      <td>NaN</td>\n",
       "      <td>NaN</td>\n",
       "      <td>NaN</td>\n",
       "      <td>NaN</td>\n",
       "      <td>NaN</td>\n",
       "      <td>NaN</td>\n",
       "      <td>NaN</td>\n",
       "      <td>NaN</td>\n",
       "      <td>NaN</td>\n",
       "      <td>NaN</td>\n",
       "      <td>NaN</td>\n",
       "      <td>NaN</td>\n",
       "      <td>NaN</td>\n",
       "      <td>NaN</td>\n",
       "      <td>NaN</td>\n",
       "      <td>NaN</td>\n",
       "      <td>NaN</td>\n",
       "      <td>NaN</td>\n",
       "      <td>NaN</td>\n",
       "      <td>NaN</td>\n",
       "      <td>NaN</td>\n",
       "      <td>NaN</td>\n",
       "      <td>NaN</td>\n",
       "      <td>NaN</td>\n",
       "      <td>NaN</td>\n",
       "      <td>NaN</td>\n",
       "      <td>NaN</td>\n",
       "      <td>NaN</td>\n",
       "      <td>NaN</td>\n",
       "      <td>NaN</td>\n",
       "      <td>NaN</td>\n",
       "      <td>NaN</td>\n",
       "      <td>NaN</td>\n",
       "      <td>NaN</td>\n",
       "      <td>NaN</td>\n",
       "      <td>NaN</td>\n",
       "      <td>NaN</td>\n",
       "      <td>NaN</td>\n",
       "      <td>...</td>\n",
       "      <td>19.583333</td>\n",
       "      <td>0.874583</td>\n",
       "      <td>325.478885</td>\n",
       "      <td>0.855000</td>\n",
       "      <td>87.768333</td>\n",
       "      <td>27.208333</td>\n",
       "      <td>19.275000</td>\n",
       "      <td>22.299527</td>\n",
       "      <td>2.594011</td>\n",
       "      <td>6.728895</td>\n",
       "      <td>21.358333</td>\n",
       "      <td>7.933333</td>\n",
       "      <td>0.000</td>\n",
       "      <td>0.0</td>\n",
       "      <td>0.000000</td>\n",
       "      <td>0.000000</td>\n",
       "      <td>0.000000</td>\n",
       "      <td>0.0</td>\n",
       "      <td>0.000</td>\n",
       "      <td>0.891500</td>\n",
       "      <td>0.510818</td>\n",
       "      <td>0.758530</td>\n",
       "      <td>0.120234</td>\n",
       "      <td>0.014456</td>\n",
       "      <td>0.806292</td>\n",
       "      <td>0.380682</td>\n",
       "      <td>345.726333</td>\n",
       "      <td>6.535299</td>\n",
       "      <td>209.574655</td>\n",
       "      <td>120.231802</td>\n",
       "      <td>14455.686315</td>\n",
       "      <td>220.039988</td>\n",
       "      <td>339.191034</td>\n",
       "      <td>1.517500</td>\n",
       "      <td>0.162500</td>\n",
       "      <td>0.677348</td>\n",
       "      <td>0.394041</td>\n",
       "      <td>0.155268</td>\n",
       "      <td>0.666250</td>\n",
       "      <td>1.355000</td>\n",
       "      <td>87.871667</td>\n",
       "      <td>87.614167</td>\n",
       "      <td>87.752434</td>\n",
       "      <td>0.070374</td>\n",
       "      <td>0.004952</td>\n",
       "      <td>87.762083</td>\n",
       "      <td>0.257500</td>\n",
       "      <td>200.0</td>\n",
       "      <td>60.0</td>\n",
       "      <td>100.0</td>\n",
       "    </tr>\n",
       "    <tr>\n",
       "      <th>1</th>\n",
       "      <td>ID_train_1</td>\n",
       "      <td>3</td>\n",
       "      <td>79.131702</td>\n",
       "      <td>22.533333</td>\n",
       "      <td>0.744583</td>\n",
       "      <td>281.664310</td>\n",
       "      <td>2.377500</td>\n",
       "      <td>90.320000</td>\n",
       "      <td>21.716667</td>\n",
       "      <td>0.808083</td>\n",
       "      <td>89.156293</td>\n",
       "      <td>1.126667</td>\n",
       "      <td>90.377500</td>\n",
       "      <td>20.833333</td>\n",
       "      <td>0.911167</td>\n",
       "      <td>81.968539</td>\n",
       "      <td>0.700833</td>\n",
       "      <td>90.440833</td>\n",
       "      <td>20.983333</td>\n",
       "      <td>0.916333</td>\n",
       "      <td>291.018632</td>\n",
       "      <td>0.341667</td>\n",
       "      <td>90.472500</td>\n",
       "      <td>20.875000</td>\n",
       "      <td>0.929750</td>\n",
       "      <td>279.391524</td>\n",
       "      <td>0.440833</td>\n",
       "      <td>90.454167</td>\n",
       "      <td>20.141667</td>\n",
       "      <td>0.954000</td>\n",
       "      <td>158.026892</td>\n",
       "      <td>0.380000</td>\n",
       "      <td>90.394167</td>\n",
       "      <td>19.375000</td>\n",
       "      <td>0.964083</td>\n",
       "      <td>248.316596</td>\n",
       "      <td>0.467500</td>\n",
       "      <td>90.333333</td>\n",
       "      <td>18.791667</td>\n",
       "      <td>0.970750</td>\n",
       "      <td>211.143363</td>\n",
       "      <td>0.4625</td>\n",
       "      <td>90.310833</td>\n",
       "      <td>18.775000</td>\n",
       "      <td>0.964917</td>\n",
       "      <td>315.319213</td>\n",
       "      <td>0.409167</td>\n",
       "      <td>90.343333</td>\n",
       "      <td>18.641667</td>\n",
       "      <td>0.963833</td>\n",
       "      <td>...</td>\n",
       "      <td>21.450000</td>\n",
       "      <td>0.797333</td>\n",
       "      <td>296.967254</td>\n",
       "      <td>1.019167</td>\n",
       "      <td>90.529167</td>\n",
       "      <td>33.616667</td>\n",
       "      <td>17.983333</td>\n",
       "      <td>24.679063</td>\n",
       "      <td>4.266955</td>\n",
       "      <td>18.206903</td>\n",
       "      <td>23.791667</td>\n",
       "      <td>15.633333</td>\n",
       "      <td>0.561</td>\n",
       "      <td>0.0</td>\n",
       "      <td>0.007025</td>\n",
       "      <td>0.051706</td>\n",
       "      <td>0.002673</td>\n",
       "      <td>0.0</td>\n",
       "      <td>0.561</td>\n",
       "      <td>0.979250</td>\n",
       "      <td>0.403083</td>\n",
       "      <td>0.758058</td>\n",
       "      <td>0.160952</td>\n",
       "      <td>0.025906</td>\n",
       "      <td>0.791000</td>\n",
       "      <td>0.576167</td>\n",
       "      <td>357.730286</td>\n",
       "      <td>3.543198</td>\n",
       "      <td>177.109855</td>\n",
       "      <td>96.802929</td>\n",
       "      <td>9370.807133</td>\n",
       "      <td>153.164843</td>\n",
       "      <td>354.187088</td>\n",
       "      <td>3.009167</td>\n",
       "      <td>0.248333</td>\n",
       "      <td>0.899208</td>\n",
       "      <td>0.539199</td>\n",
       "      <td>0.290736</td>\n",
       "      <td>0.744167</td>\n",
       "      <td>2.760833</td>\n",
       "      <td>90.725000</td>\n",
       "      <td>90.056667</td>\n",
       "      <td>90.429924</td>\n",
       "      <td>0.156000</td>\n",
       "      <td>0.024336</td>\n",
       "      <td>90.429167</td>\n",
       "      <td>0.668333</td>\n",
       "      <td>100.0</td>\n",
       "      <td>71.0</td>\n",
       "      <td>83.0</td>\n",
       "    </tr>\n",
       "    <tr>\n",
       "      <th>2</th>\n",
       "      <td>ID_train_10</td>\n",
       "      <td>0</td>\n",
       "      <td>32.661304</td>\n",
       "      <td>28.975000</td>\n",
       "      <td>0.573333</td>\n",
       "      <td>NaN</td>\n",
       "      <td>NaN</td>\n",
       "      <td>88.551667</td>\n",
       "      <td>27.950000</td>\n",
       "      <td>0.597167</td>\n",
       "      <td>NaN</td>\n",
       "      <td>NaN</td>\n",
       "      <td>88.464167</td>\n",
       "      <td>29.600000</td>\n",
       "      <td>0.566833</td>\n",
       "      <td>NaN</td>\n",
       "      <td>NaN</td>\n",
       "      <td>88.319167</td>\n",
       "      <td>26.425000</td>\n",
       "      <td>0.627667</td>\n",
       "      <td>NaN</td>\n",
       "      <td>NaN</td>\n",
       "      <td>88.240000</td>\n",
       "      <td>22.091667</td>\n",
       "      <td>0.755417</td>\n",
       "      <td>NaN</td>\n",
       "      <td>NaN</td>\n",
       "      <td>88.230000</td>\n",
       "      <td>21.775000</td>\n",
       "      <td>0.777417</td>\n",
       "      <td>NaN</td>\n",
       "      <td>NaN</td>\n",
       "      <td>88.268333</td>\n",
       "      <td>22.333333</td>\n",
       "      <td>0.787000</td>\n",
       "      <td>NaN</td>\n",
       "      <td>NaN</td>\n",
       "      <td>88.370000</td>\n",
       "      <td>21.950000</td>\n",
       "      <td>0.831917</td>\n",
       "      <td>NaN</td>\n",
       "      <td>NaN</td>\n",
       "      <td>88.520000</td>\n",
       "      <td>20.441667</td>\n",
       "      <td>0.880083</td>\n",
       "      <td>NaN</td>\n",
       "      <td>NaN</td>\n",
       "      <td>88.563333</td>\n",
       "      <td>20.441667</td>\n",
       "      <td>0.882500</td>\n",
       "      <td>...</td>\n",
       "      <td>30.091667</td>\n",
       "      <td>0.437917</td>\n",
       "      <td>250.105258</td>\n",
       "      <td>1.746667</td>\n",
       "      <td>88.415833</td>\n",
       "      <td>31.841667</td>\n",
       "      <td>18.458333</td>\n",
       "      <td>24.112317</td>\n",
       "      <td>3.776377</td>\n",
       "      <td>14.261020</td>\n",
       "      <td>23.304167</td>\n",
       "      <td>13.383333</td>\n",
       "      <td>7.804</td>\n",
       "      <td>0.0</td>\n",
       "      <td>0.151767</td>\n",
       "      <td>0.798401</td>\n",
       "      <td>0.637445</td>\n",
       "      <td>0.0</td>\n",
       "      <td>7.804</td>\n",
       "      <td>0.930333</td>\n",
       "      <td>0.376750</td>\n",
       "      <td>0.712944</td>\n",
       "      <td>0.168129</td>\n",
       "      <td>0.028267</td>\n",
       "      <td>0.766458</td>\n",
       "      <td>0.553583</td>\n",
       "      <td>357.265773</td>\n",
       "      <td>0.581510</td>\n",
       "      <td>201.373211</td>\n",
       "      <td>92.105195</td>\n",
       "      <td>8483.367004</td>\n",
       "      <td>208.901301</td>\n",
       "      <td>356.684263</td>\n",
       "      <td>2.751667</td>\n",
       "      <td>0.331667</td>\n",
       "      <td>1.038656</td>\n",
       "      <td>0.585221</td>\n",
       "      <td>0.342484</td>\n",
       "      <td>0.942500</td>\n",
       "      <td>2.420000</td>\n",
       "      <td>88.813333</td>\n",
       "      <td>87.982500</td>\n",
       "      <td>88.420931</td>\n",
       "      <td>0.179481</td>\n",
       "      <td>0.032213</td>\n",
       "      <td>88.425000</td>\n",
       "      <td>0.830833</td>\n",
       "      <td>100.0</td>\n",
       "      <td>100.0</td>\n",
       "      <td>100.0</td>\n",
       "    </tr>\n",
       "    <tr>\n",
       "      <th>3</th>\n",
       "      <td>ID_train_100</td>\n",
       "      <td>0</td>\n",
       "      <td>53.850238</td>\n",
       "      <td>22.966667</td>\n",
       "      <td>0.843083</td>\n",
       "      <td>300.085057</td>\n",
       "      <td>1.446667</td>\n",
       "      <td>88.615000</td>\n",
       "      <td>24.266667</td>\n",
       "      <td>0.790250</td>\n",
       "      <td>293.676960</td>\n",
       "      <td>1.192500</td>\n",
       "      <td>88.530833</td>\n",
       "      <td>25.275000</td>\n",
       "      <td>0.737500</td>\n",
       "      <td>294.517465</td>\n",
       "      <td>1.324167</td>\n",
       "      <td>88.400000</td>\n",
       "      <td>25.625000</td>\n",
       "      <td>0.728000</td>\n",
       "      <td>301.921417</td>\n",
       "      <td>1.544167</td>\n",
       "      <td>88.271667</td>\n",
       "      <td>25.866667</td>\n",
       "      <td>0.704917</td>\n",
       "      <td>334.568073</td>\n",
       "      <td>1.915833</td>\n",
       "      <td>88.207500</td>\n",
       "      <td>25.091667</td>\n",
       "      <td>0.741167</td>\n",
       "      <td>319.576411</td>\n",
       "      <td>1.840000</td>\n",
       "      <td>88.178333</td>\n",
       "      <td>24.025000</td>\n",
       "      <td>0.764250</td>\n",
       "      <td>315.250281</td>\n",
       "      <td>1.470833</td>\n",
       "      <td>88.206667</td>\n",
       "      <td>22.425000</td>\n",
       "      <td>0.850500</td>\n",
       "      <td>261.926589</td>\n",
       "      <td>1.0725</td>\n",
       "      <td>88.280833</td>\n",
       "      <td>20.233333</td>\n",
       "      <td>0.916000</td>\n",
       "      <td>261.926589</td>\n",
       "      <td>1.072500</td>\n",
       "      <td>88.411667</td>\n",
       "      <td>17.416667</td>\n",
       "      <td>0.995083</td>\n",
       "      <td>...</td>\n",
       "      <td>24.641667</td>\n",
       "      <td>0.719667</td>\n",
       "      <td>331.118658</td>\n",
       "      <td>1.852500</td>\n",
       "      <td>88.465833</td>\n",
       "      <td>27.491667</td>\n",
       "      <td>16.941667</td>\n",
       "      <td>20.845273</td>\n",
       "      <td>3.080140</td>\n",
       "      <td>9.487259</td>\n",
       "      <td>19.541667</td>\n",
       "      <td>10.550000</td>\n",
       "      <td>25.787</td>\n",
       "      <td>0.0</td>\n",
       "      <td>1.127273</td>\n",
       "      <td>3.739886</td>\n",
       "      <td>13.986750</td>\n",
       "      <td>0.0</td>\n",
       "      <td>25.787</td>\n",
       "      <td>0.999917</td>\n",
       "      <td>0.618750</td>\n",
       "      <td>0.898326</td>\n",
       "      <td>0.114207</td>\n",
       "      <td>0.013043</td>\n",
       "      <td>0.970167</td>\n",
       "      <td>0.381167</td>\n",
       "      <td>357.246718</td>\n",
       "      <td>3.092044</td>\n",
       "      <td>259.973977</td>\n",
       "      <td>114.240190</td>\n",
       "      <td>13050.821125</td>\n",
       "      <td>318.539747</td>\n",
       "      <td>354.154674</td>\n",
       "      <td>2.744167</td>\n",
       "      <td>0.275000</td>\n",
       "      <td>1.365202</td>\n",
       "      <td>0.580259</td>\n",
       "      <td>0.336701</td>\n",
       "      <td>1.388333</td>\n",
       "      <td>2.469167</td>\n",
       "      <td>88.685000</td>\n",
       "      <td>87.965000</td>\n",
       "      <td>88.376915</td>\n",
       "      <td>0.161758</td>\n",
       "      <td>0.026166</td>\n",
       "      <td>88.400000</td>\n",
       "      <td>0.720000</td>\n",
       "      <td>100.0</td>\n",
       "      <td>100.0</td>\n",
       "      <td>100.0</td>\n",
       "    </tr>\n",
       "    <tr>\n",
       "      <th>4</th>\n",
       "      <td>ID_train_1000</td>\n",
       "      <td>0</td>\n",
       "      <td>177.418750</td>\n",
       "      <td>21.875000</td>\n",
       "      <td>0.856417</td>\n",
       "      <td>21.839974</td>\n",
       "      <td>0.197500</td>\n",
       "      <td>88.556667</td>\n",
       "      <td>21.575000</td>\n",
       "      <td>0.874917</td>\n",
       "      <td>17.054053</td>\n",
       "      <td>0.244167</td>\n",
       "      <td>88.640833</td>\n",
       "      <td>21.525000</td>\n",
       "      <td>0.879833</td>\n",
       "      <td>89.264060</td>\n",
       "      <td>0.411667</td>\n",
       "      <td>88.658333</td>\n",
       "      <td>21.433333</td>\n",
       "      <td>0.860167</td>\n",
       "      <td>123.585424</td>\n",
       "      <td>0.560000</td>\n",
       "      <td>88.647500</td>\n",
       "      <td>20.508333</td>\n",
       "      <td>0.898000</td>\n",
       "      <td>328.708314</td>\n",
       "      <td>0.577500</td>\n",
       "      <td>88.632500</td>\n",
       "      <td>19.916667</td>\n",
       "      <td>0.908500</td>\n",
       "      <td>117.606956</td>\n",
       "      <td>0.429167</td>\n",
       "      <td>88.586667</td>\n",
       "      <td>18.991667</td>\n",
       "      <td>0.933250</td>\n",
       "      <td>284.673317</td>\n",
       "      <td>0.508333</td>\n",
       "      <td>88.546667</td>\n",
       "      <td>18.591667</td>\n",
       "      <td>0.957000</td>\n",
       "      <td>349.689312</td>\n",
       "      <td>0.5100</td>\n",
       "      <td>88.523333</td>\n",
       "      <td>18.050000</td>\n",
       "      <td>0.951750</td>\n",
       "      <td>10.772327</td>\n",
       "      <td>0.431667</td>\n",
       "      <td>88.528333</td>\n",
       "      <td>17.916667</td>\n",
       "      <td>0.913250</td>\n",
       "      <td>...</td>\n",
       "      <td>20.616667</td>\n",
       "      <td>0.831417</td>\n",
       "      <td>62.391650</td>\n",
       "      <td>0.735000</td>\n",
       "      <td>88.465833</td>\n",
       "      <td>28.750000</td>\n",
       "      <td>17.525000</td>\n",
       "      <td>21.870732</td>\n",
       "      <td>3.286870</td>\n",
       "      <td>10.803515</td>\n",
       "      <td>20.950000</td>\n",
       "      <td>11.225000</td>\n",
       "      <td>0.136</td>\n",
       "      <td>0.0</td>\n",
       "      <td>0.005100</td>\n",
       "      <td>0.024498</td>\n",
       "      <td>0.000600</td>\n",
       "      <td>0.0</td>\n",
       "      <td>0.136</td>\n",
       "      <td>0.957000</td>\n",
       "      <td>0.486417</td>\n",
       "      <td>0.785134</td>\n",
       "      <td>0.143001</td>\n",
       "      <td>0.020449</td>\n",
       "      <td>0.839792</td>\n",
       "      <td>0.470583</td>\n",
       "      <td>359.193111</td>\n",
       "      <td>10.772327</td>\n",
       "      <td>181.944779</td>\n",
       "      <td>125.337606</td>\n",
       "      <td>15709.515580</td>\n",
       "      <td>160.078536</td>\n",
       "      <td>348.420784</td>\n",
       "      <td>1.994167</td>\n",
       "      <td>0.197500</td>\n",
       "      <td>0.729763</td>\n",
       "      <td>0.426251</td>\n",
       "      <td>0.181690</td>\n",
       "      <td>0.542917</td>\n",
       "      <td>1.796667</td>\n",
       "      <td>88.719167</td>\n",
       "      <td>88.268333</td>\n",
       "      <td>88.538104</td>\n",
       "      <td>0.118369</td>\n",
       "      <td>0.014011</td>\n",
       "      <td>88.552500</td>\n",
       "      <td>0.450833</td>\n",
       "      <td>100.0</td>\n",
       "      <td>100.0</td>\n",
       "      <td>100.0</td>\n",
       "    </tr>\n",
       "  </tbody>\n",
       "</table>\n",
       "<p>5 rows × 653 columns</p>\n",
       "</div>"
      ],
      "text/plain": [
       "              ID  location      target   newtemp0  newrel_humidity0  \\\n",
       "0     ID_train_0         2   45.126304        NaN               NaN   \n",
       "1     ID_train_1         3   79.131702  22.533333          0.744583   \n",
       "2    ID_train_10         0   32.661304  28.975000          0.573333   \n",
       "3   ID_train_100         0   53.850238  22.966667          0.843083   \n",
       "4  ID_train_1000         0  177.418750  21.875000          0.856417   \n",
       "\n",
       "   newwind_dir0  windspeed0  atmospherepressure0   newtemp1  newrel_humidity1  \\\n",
       "0           NaN         NaN                  NaN        NaN               NaN   \n",
       "1    281.664310    2.377500            90.320000  21.716667          0.808083   \n",
       "2           NaN         NaN            88.551667  27.950000          0.597167   \n",
       "3    300.085057    1.446667            88.615000  24.266667          0.790250   \n",
       "4     21.839974    0.197500            88.556667  21.575000          0.874917   \n",
       "\n",
       "   newwind_dir1  windspeed1  atmospherepressure1   newtemp2  newrel_humidity2  \\\n",
       "0           NaN         NaN                  NaN        NaN               NaN   \n",
       "1     89.156293    1.126667            90.377500  20.833333          0.911167   \n",
       "2           NaN         NaN            88.464167  29.600000          0.566833   \n",
       "3    293.676960    1.192500            88.530833  25.275000          0.737500   \n",
       "4     17.054053    0.244167            88.640833  21.525000          0.879833   \n",
       "\n",
       "   newwind_dir2  windspeed2  atmospherepressure2   newtemp3  newrel_humidity3  \\\n",
       "0           NaN         NaN                  NaN        NaN               NaN   \n",
       "1     81.968539    0.700833            90.440833  20.983333          0.916333   \n",
       "2           NaN         NaN            88.319167  26.425000          0.627667   \n",
       "3    294.517465    1.324167            88.400000  25.625000          0.728000   \n",
       "4     89.264060    0.411667            88.658333  21.433333          0.860167   \n",
       "\n",
       "   newwind_dir3  windspeed3  atmospherepressure3   newtemp4  newrel_humidity4  \\\n",
       "0           NaN         NaN                  NaN        NaN               NaN   \n",
       "1    291.018632    0.341667            90.472500  20.875000          0.929750   \n",
       "2           NaN         NaN            88.240000  22.091667          0.755417   \n",
       "3    301.921417    1.544167            88.271667  25.866667          0.704917   \n",
       "4    123.585424    0.560000            88.647500  20.508333          0.898000   \n",
       "\n",
       "   newwind_dir4  windspeed4  atmospherepressure4   newtemp5  newrel_humidity5  \\\n",
       "0           NaN         NaN                  NaN        NaN               NaN   \n",
       "1    279.391524    0.440833            90.454167  20.141667          0.954000   \n",
       "2           NaN         NaN            88.230000  21.775000          0.777417   \n",
       "3    334.568073    1.915833            88.207500  25.091667          0.741167   \n",
       "4    328.708314    0.577500            88.632500  19.916667          0.908500   \n",
       "\n",
       "   newwind_dir5  windspeed5  atmospherepressure5   newtemp6  newrel_humidity6  \\\n",
       "0           NaN         NaN                  NaN        NaN               NaN   \n",
       "1    158.026892    0.380000            90.394167  19.375000          0.964083   \n",
       "2           NaN         NaN            88.268333  22.333333          0.787000   \n",
       "3    319.576411    1.840000            88.178333  24.025000          0.764250   \n",
       "4    117.606956    0.429167            88.586667  18.991667          0.933250   \n",
       "\n",
       "   newwind_dir6  windspeed6  atmospherepressure6   newtemp7  newrel_humidity7  \\\n",
       "0           NaN         NaN                  NaN        NaN               NaN   \n",
       "1    248.316596    0.467500            90.333333  18.791667          0.970750   \n",
       "2           NaN         NaN            88.370000  21.950000          0.831917   \n",
       "3    315.250281    1.470833            88.206667  22.425000          0.850500   \n",
       "4    284.673317    0.508333            88.546667  18.591667          0.957000   \n",
       "\n",
       "   newwind_dir7  windspeed7  atmospherepressure7   newtemp8  newrel_humidity8  \\\n",
       "0           NaN         NaN                  NaN        NaN               NaN   \n",
       "1    211.143363      0.4625            90.310833  18.775000          0.964917   \n",
       "2           NaN         NaN            88.520000  20.441667          0.880083   \n",
       "3    261.926589      1.0725            88.280833  20.233333          0.916000   \n",
       "4    349.689312      0.5100            88.523333  18.050000          0.951750   \n",
       "\n",
       "   newwind_dir8  windspeed8  atmospherepressure8   newtemp9  newrel_humidity9  \\\n",
       "0           NaN         NaN                  NaN        NaN               NaN   \n",
       "1    315.319213    0.409167            90.343333  18.641667          0.963833   \n",
       "2           NaN         NaN            88.563333  20.441667          0.882500   \n",
       "3    261.926589    1.072500            88.411667  17.416667          0.995083   \n",
       "4     10.772327    0.431667            88.528333  17.916667          0.913250   \n",
       "\n",
       "   ...  newtemp120  newrel_humidity120  newwind_dir120  windspeed120  \\\n",
       "0  ...   19.583333            0.874583      325.478885      0.855000   \n",
       "1  ...   21.450000            0.797333      296.967254      1.019167   \n",
       "2  ...   30.091667            0.437917      250.105258      1.746667   \n",
       "3  ...   24.641667            0.719667      331.118658      1.852500   \n",
       "4  ...   20.616667            0.831417       62.391650      0.735000   \n",
       "\n",
       "   atmospherepressure120   max_temp   min_temp  mean_temp  std_temp  \\\n",
       "0              87.768333  27.208333  19.275000  22.299527  2.594011   \n",
       "1              90.529167  33.616667  17.983333  24.679063  4.266955   \n",
       "2              88.415833  31.841667  18.458333  24.112317  3.776377   \n",
       "3              88.465833  27.491667  16.941667  20.845273  3.080140   \n",
       "4              88.465833  28.750000  17.525000  21.870732  3.286870   \n",
       "\n",
       "    var_temp  median_temp   ptp_temp  max_precip  min_precip  mean_precip  \\\n",
       "0   6.728895    21.358333   7.933333       0.000         0.0     0.000000   \n",
       "1  18.206903    23.791667  15.633333       0.561         0.0     0.007025   \n",
       "2  14.261020    23.304167  13.383333       7.804         0.0     0.151767   \n",
       "3   9.487259    19.541667  10.550000      25.787         0.0     1.127273   \n",
       "4  10.803515    20.950000  11.225000       0.136         0.0     0.005100   \n",
       "\n",
       "   std_precip  var_precip  median_precip  ptp_precip  max_rel_humidity  \\\n",
       "0    0.000000    0.000000            0.0       0.000          0.891500   \n",
       "1    0.051706    0.002673            0.0       0.561          0.979250   \n",
       "2    0.798401    0.637445            0.0       7.804          0.930333   \n",
       "3    3.739886   13.986750            0.0      25.787          0.999917   \n",
       "4    0.024498    0.000600            0.0       0.136          0.957000   \n",
       "\n",
       "   min_rel_humidity  mean_rel_humidity  std_rel_humidity  var_rel_humidity  \\\n",
       "0          0.510818           0.758530          0.120234          0.014456   \n",
       "1          0.403083           0.758058          0.160952          0.025906   \n",
       "2          0.376750           0.712944          0.168129          0.028267   \n",
       "3          0.618750           0.898326          0.114207          0.013043   \n",
       "4          0.486417           0.785134          0.143001          0.020449   \n",
       "\n",
       "   median_rel_humidity  ptp_rel_humidity  max_wind_dir  min_wind_dir  \\\n",
       "0             0.806292          0.380682    345.726333      6.535299   \n",
       "1             0.791000          0.576167    357.730286      3.543198   \n",
       "2             0.766458          0.553583    357.265773      0.581510   \n",
       "3             0.970167          0.381167    357.246718      3.092044   \n",
       "4             0.839792          0.470583    359.193111     10.772327   \n",
       "\n",
       "   mean_wind_dir  std_wind_dir  var_wind_dir  median_wind_dir  ptp_wind_dir  \\\n",
       "0     209.574655    120.231802  14455.686315       220.039988    339.191034   \n",
       "1     177.109855     96.802929   9370.807133       153.164843    354.187088   \n",
       "2     201.373211     92.105195   8483.367004       208.901301    356.684263   \n",
       "3     259.973977    114.240190  13050.821125       318.539747    354.154674   \n",
       "4     181.944779    125.337606  15709.515580       160.078536    348.420784   \n",
       "\n",
       "   max_wind_spd  min_wind_spd  mean_wind_spd  std_wind_spd  var_wind_spd  \\\n",
       "0      1.517500      0.162500       0.677348      0.394041      0.155268   \n",
       "1      3.009167      0.248333       0.899208      0.539199      0.290736   \n",
       "2      2.751667      0.331667       1.038656      0.585221      0.342484   \n",
       "3      2.744167      0.275000       1.365202      0.580259      0.336701   \n",
       "4      1.994167      0.197500       0.729763      0.426251      0.181690   \n",
       "\n",
       "   median_wind_spd  ptp_wind_spd  max_atmos_press  min_atmos_press  \\\n",
       "0         0.666250      1.355000        87.871667        87.614167   \n",
       "1         0.744167      2.760833        90.725000        90.056667   \n",
       "2         0.942500      2.420000        88.813333        87.982500   \n",
       "3         1.388333      2.469167        88.685000        87.965000   \n",
       "4         0.542917      1.796667        88.719167        88.268333   \n",
       "\n",
       "   mean_atmos_press  std_atmos_press  var_atmos_press  median_atmos_press  \\\n",
       "0         87.752434         0.070374         0.004952           87.762083   \n",
       "1         90.429924         0.156000         0.024336           90.429167   \n",
       "2         88.420931         0.179481         0.032213           88.425000   \n",
       "3         88.376915         0.161758         0.026166           88.400000   \n",
       "4         88.538104         0.118369         0.014011           88.552500   \n",
       "\n",
       "   ptp_atmos_press  weight  weight_wind  weight_winddir  \n",
       "0         0.257500   200.0         60.0           100.0  \n",
       "1         0.668333   100.0         71.0            83.0  \n",
       "2         0.830833   100.0        100.0           100.0  \n",
       "3         0.720000   100.0        100.0           100.0  \n",
       "4         0.450833   100.0        100.0           100.0  \n",
       "\n",
       "[5 rows x 653 columns]"
      ]
     },
     "execution_count": 70,
     "metadata": {
      "tags": []
     },
     "output_type": "execute_result"
    }
   ],
   "source": [
    "train.head()"
   ]
  },
  {
   "cell_type": "markdown",
   "metadata": {},
   "source": [
    "## EDA and Feature Engineering"
   ]
  },
  {
   "cell_type": "code",
   "execution_count": 0,
   "metadata": {
    "colab": {
     "base_uri": "https://localhost:8080/",
     "height": 296
    },
    "colab_type": "code",
    "id": "3yejVHiGOu2f",
    "outputId": "d2fc1500-dde1-40c2-ce30-7f84c53a429f"
   },
   "outputs": [
    {
     "data": {
      "text/plain": [
       "<matplotlib.axes._subplots.AxesSubplot at 0x7f20b1407a90>"
      ]
     },
     "execution_count": 53,
     "metadata": {
      "tags": []
     },
     "output_type": "execute_result"
    },
    {
     "data": {
      "image/png": "[encoded data removed]",
      "text/plain": [
       "<Figure size 720x288 with 1 Axes>"
      ]
     },
     "metadata": {
      "needs_background": "light",
      "tags": []
     },
     "output_type": "display_data"
    }
   ],
   "source": [
    "plt.figure(figsize=(10,4))\n",
    "plt.xlim(train['target'].min(), train['target'].max())\n",
    "sns.boxplot(x=train['target'])"
   ]
  },
  {
   "cell_type": "code",
   "execution_count": 0,
   "metadata": {
    "colab": {},
    "colab_type": "code",
    "id": "0ZCT1e8POu2m"
   },
   "outputs": [],
   "source": [
    "train = train[train.target<400]"
   ]
  },
  {
   "cell_type": "code",
   "execution_count": 0,
   "metadata": {
    "colab": {},
    "colab_type": "code",
    "id": "1DrkZ59rOu2u"
   },
   "outputs": [],
   "source": [
    "features = ['newtemp','newprecip','newrel_humidity','newwind_dir','windspeed','atmospherepressure']"
   ]
  },
  {
   "cell_type": "code",
   "execution_count": 0,
   "metadata": {
    "colab": {
     "base_uri": "https://localhost:8080/",
     "height": 34
    },
    "colab_type": "code",
    "id": "t8aYxVA2Ou24",
    "outputId": "f5a820ac-42b7-4a98-d281-fb35d47cdc84"
   },
   "outputs": [
    {
     "data": {
      "text/plain": [
       "array([2, 3, 0, 4, 1])"
      ]
     },
     "execution_count": 8,
     "metadata": {
      "tags": []
     },
     "output_type": "execute_result"
    }
   ],
   "source": [
    "train.location.unique()"
   ]
  },
  {
   "cell_type": "code",
   "execution_count": 0,
   "metadata": {
    "colab": {
     "base_uri": "https://localhost:8080/",
     "height": 102
    },
    "colab_type": "code",
    "id": "qN93OdLmOu2-",
    "outputId": "1a5bbe9c-e6a2-4bc9-c422-857921f0c283"
   },
   "outputs": [
    {
     "name": "stdout",
     "output_type": "stream",
     "text": [
      "5121\n",
      "767\n",
      "1752\n",
      "4990\n",
      "2907\n"
     ]
    }
   ],
   "source": [
    "for i in range(5):\n",
    "  print(train[train.location==i].shape[0])"
   ]
  },
  {
   "cell_type": "code",
   "execution_count": 0,
   "metadata": {
    "colab": {
     "base_uri": "https://localhost:8080/",
     "height": 102
    },
    "colab_type": "code",
    "id": "4XnMP97HOu3F",
    "outputId": "3e711e8e-b164-4141-f3d8-8e252116e3dc"
   },
   "outputs": [
    {
     "name": "stdout",
     "output_type": "stream",
     "text": [
      "Loc 0 :  0.183333333\n",
      "Loc 1 :  0.133333333\n",
      "Loc 2 :  0.123333333\n",
      "Loc 3 :  0.1625\n",
      "Loc 4 :  0.175833333\n"
     ]
    }
   ],
   "source": [
    "print(\"Loc 0 : \",train[train.location==0]['windspeed0'].min())\n",
    "print(\"Loc 1 : \",train[train.location==1]['windspeed0'].min())\n",
    "print(\"Loc 2 : \",train[train.location==2]['windspeed0'].min())\n",
    "print(\"Loc 3 : \",train[train.location==3]['windspeed0'].min())\n",
    "print(\"Loc 4 : \",train[train.location==4]['windspeed0'].min())"
   ]
  },
  {
   "cell_type": "code",
   "execution_count": 0,
   "metadata": {
    "colab": {
     "base_uri": "https://localhost:8080/",
     "height": 316
    },
    "colab_type": "code",
    "id": "orX0EyKEOu3L",
    "outputId": "5fada2cc-85c6-4b05-f004-95d5aaae8b6a"
   },
   "outputs": [
    {
     "name": "stdout",
     "output_type": "stream",
     "text": [
      "25.2\n",
      "21.04166667\n"
     ]
    },
    {
     "data": {
      "text/plain": [
       "[<matplotlib.lines.Line2D at 0x7f65817c5a58>]"
      ]
     },
     "execution_count": 16,
     "metadata": {
      "tags": []
     },
     "output_type": "execute_result"
    },
    {
     "data": {
      "image/png": "[encoded data removed]",
      "text/plain": [
       "<Figure size 432x288 with 1 Axes>"
      ]
     },
     "metadata": {
      "needs_background": "light",
      "tags": []
     },
     "output_type": "display_data"
    }
   ],
   "source": [
    "print(train.loc[1500,'newtemp24'])\n",
    "print(train.loc[1500,'newtemp12'])\n",
    "plt.plot(train.newtemp1,train.target)"
   ]
  },
  {
   "cell_type": "code",
   "execution_count": 0,
   "metadata": {
    "colab": {
     "base_uri": "https://localhost:8080/",
     "height": 299
    },
    "colab_type": "code",
    "id": "0IrIR_KbOu3S",
    "outputId": "ad479e3b-e29e-49c3-b556-f91a9fd8969b"
   },
   "outputs": [
    {
     "name": "stdout",
     "output_type": "stream",
     "text": [
      "0\n"
     ]
    },
    {
     "data": {
      "text/plain": [
       "[<matplotlib.lines.Line2D at 0x7fd6cc984b00>]"
      ]
     },
     "execution_count": 5,
     "metadata": {
      "tags": []
     },
     "output_type": "execute_result"
    },
    {
     "data": {
      "image/png": "[encoded data removed]",
      "text/plain": [
       "<Figure size 432x288 with 1 Axes>"
      ]
     },
     "metadata": {
      "needs_background": "light",
      "tags": []
     },
     "output_type": "display_data"
    }
   ],
   "source": [
    "temps = []\n",
    "for i in range(121):\n",
    "    temps.append(train.loc[8,'newtemp'+str(i)])\n",
    "print(train.loc[8,'location'])\n",
    "plt.plot(temps)"
   ]
  },
  {
   "cell_type": "code",
   "execution_count": 0,
   "metadata": {
    "colab": {
     "base_uri": "https://localhost:8080/",
     "height": 302
    },
    "colab_type": "code",
    "id": "4G8VRGDDOu3c",
    "outputId": "64ad33bc-e14a-482c-fa83-06ca2da82e69"
   },
   "outputs": [
    {
     "name": "stdout",
     "output_type": "stream",
     "text": [
      "0\n"
     ]
    },
    {
     "data": {
      "text/plain": [
       "[<matplotlib.lines.Line2D at 0x7f65810fa550>]"
      ]
     },
     "execution_count": 18,
     "metadata": {
      "tags": []
     },
     "output_type": "execute_result"
    },
    {
     "data": {
      "image/png": "[encoded data removed]",
      "text/plain": [
       "<Figure size 432x288 with 1 Axes>"
      ]
     },
     "metadata": {
      "needs_background": "light",
      "tags": []
     },
     "output_type": "display_data"
    }
   ],
   "source": [
    "temps = []\n",
    "for i in range(121):\n",
    "    temps.append(train.loc[7,'newtemp'+str(i)])\n",
    "print(train.loc[7,'location'])\n",
    "plt.plot(temps)"
   ]
  },
  {
   "cell_type": "code",
   "execution_count": 0,
   "metadata": {
    "colab": {
     "base_uri": "https://localhost:8080/",
     "height": 34
    },
    "colab_type": "code",
    "id": "2xoLGNXYOu3j",
    "outputId": "be3046ac-503f-498f-b042-9d70d737bbf9"
   },
   "outputs": [
    {
     "data": {
      "text/plain": [
       "1053"
      ]
     },
     "execution_count": 19,
     "metadata": {
      "tags": []
     },
     "output_type": "execute_result"
    }
   ],
   "source": [
    "train['newtemp0'].isnull().sum()"
   ]
  },
  {
   "cell_type": "code",
   "execution_count": 0,
   "metadata": {
    "colab": {},
    "colab_type": "code",
    "id": "8r2X1lgvOu3q"
   },
   "outputs": [],
   "source": [
    "indexes = []\n",
    "for i in range(train.shape[0]):\n",
    "    if(train.iloc[i].isnull().sum()>500):\n",
    "        indexes.append(i)"
   ]
  },
  {
   "cell_type": "code",
   "execution_count": 0,
   "metadata": {
    "colab": {
     "base_uri": "https://localhost:8080/",
     "height": 51
    },
    "colab_type": "code",
    "id": "7S_YikWyOu3x",
    "outputId": "e0221ee6-8491-4576-f2be-8dbd88d07b3d"
   },
   "outputs": [
    {
     "name": "stdout",
     "output_type": "stream",
     "text": [
      "Max Null :  1743\n",
      "Feature :  newwind_dir0\n"
     ]
    }
   ],
   "source": [
    "maxn = -1\n",
    "feature = \"\"\n",
    "for feat in train.columns:\n",
    "    if(train[feat].isnull().sum()>maxn):\n",
    "        maxn = train[feat].isnull().sum()\n",
    "        feature = feat\n",
    "print(\"Max Null : \",maxn)\n",
    "print(\"Feature : \",feature)"
   ]
  },
  {
   "cell_type": "code",
   "execution_count": 0,
   "metadata": {
    "colab": {},
    "colab_type": "code",
    "id": "TgN7tvVJOu32"
   },
   "outputs": [],
   "source": [
    "train.drop(train.index[[indexes]],inplace=True)"
   ]
  },
  {
   "cell_type": "code",
   "execution_count": 0,
   "metadata": {
    "colab": {
     "base_uri": "https://localhost:8080/",
     "height": 34
    },
    "colab_type": "code",
    "id": "dIxmfmjSOu38",
    "outputId": "47658c48-5eb0-45c9-86d7-cb4aa24c3fd5"
   },
   "outputs": [
    {
     "data": {
      "text/plain": [
       "(5035, 770)"
      ]
     },
     "execution_count": 23,
     "metadata": {
      "tags": []
     },
     "output_type": "execute_result"
    }
   ],
   "source": [
    "test.shape"
   ]
  },
  {
   "cell_type": "code",
   "execution_count": 0,
   "metadata": {
    "colab": {},
    "colab_type": "code",
    "id": "akUEXUMhOu4D"
   },
   "outputs": [],
   "source": [
    "for i in range(121):\n",
    "    train.drop('newprecip'+str(i),inplace=True,axis=1)\n",
    "    test.drop('newprecip'+str(i),inplace=True,axis=1)"
   ]
  },
  {
   "cell_type": "code",
   "execution_count": 0,
   "metadata": {
    "colab": {},
    "colab_type": "code",
    "id": "chWQEc44Ou4I"
   },
   "outputs": [],
   "source": [
    "train['weight'] = np.ones(train.shape[0])\n",
    "test['weight'] = np.ones(test.shape[0])"
   ]
  },
  {
   "cell_type": "code",
   "execution_count": 0,
   "metadata": {
    "colab": {},
    "colab_type": "code",
    "id": "AMGcuoBEOu4N"
   },
   "outputs": [],
   "source": [
    "train.loc[train.location==2,'weight'] = train.weight*2\n",
    "test.loc[test.location==2,'weight'] = test.weight*2"
   ]
  },
  {
   "cell_type": "code",
   "execution_count": 0,
   "metadata": {
    "colab": {},
    "colab_type": "code",
    "id": "ROM204paOu4S"
   },
   "outputs": [],
   "source": [
    "train['weight_wind'] = np.ones(train.shape[0])\n",
    "test['weight_wind'] = np.ones(test.shape[0])"
   ]
  },
  {
   "cell_type": "code",
   "execution_count": 0,
   "metadata": {
    "colab": {},
    "colab_type": "code",
    "id": "RhZgnJuVOu4X"
   },
   "outputs": [],
   "source": [
    "train.loc[(train.location==2),'weight_wind'] = train.weight_wind*0.60\n",
    "train.loc[(train.location==3),'weight_wind'] = train.weight_wind*0.71\n",
    "\n",
    "test.loc[(test.location==2),'weight_wind'] = test.weight_wind*0.60\n",
    "test.loc[(test.location==3),'weight_wind'] = test.weight_wind*0.71"
   ]
  },
  {
   "cell_type": "code",
   "execution_count": 0,
   "metadata": {
    "colab": {},
    "colab_type": "code",
    "id": "oJ0c4bCQOu4c"
   },
   "outputs": [],
   "source": [
    "train['weight_winddir'] = np.ones(train.shape[0])\n",
    "test['weight_winddir'] = np.ones(test.shape[0])"
   ]
  },
  {
   "cell_type": "code",
   "execution_count": 0,
   "metadata": {
    "colab": {},
    "colab_type": "code",
    "id": "hF-rg9AxOu4h"
   },
   "outputs": [],
   "source": [
    "train.loc[train.location==3,'weight_winddir'] = train.weight_winddir*0.83\n",
    "train.loc[train.location==4,'weight_winddir'] = train.weight_winddir*0.88\n",
    "\n",
    "test.loc[test.location==3,'weight_winddir'] = test.weight_winddir*0.83\n",
    "test.loc[test.location==4,'weight_winddir'] = test.weight_winddir*0.88"
   ]
  },
  {
   "cell_type": "code",
   "execution_count": 0,
   "metadata": {
    "colab": {},
    "colab_type": "code",
    "id": "AVusK7UuZU0x"
   },
   "outputs": [],
   "source": [
    "weight_feats = ['weight','weight_winddir','weight_wind']"
   ]
  },
  {
   "cell_type": "code",
   "execution_count": 0,
   "metadata": {
    "colab": {},
    "colab_type": "code",
    "id": "Gwn4XOVrZkZ3"
   },
   "outputs": [],
   "source": [
    "for feat in weight_feats:\n",
    "  train[feat] = train[feat]*100\n",
    "  test[feat] = test[feat]*100"
   ]
  },
  {
   "cell_type": "code",
   "execution_count": 0,
   "metadata": {
    "colab": {},
    "colab_type": "code",
    "id": "mfNVcx1JZkXo"
   },
   "outputs": [],
   "source": [
    "stats = ['max_','min_','mean_','std_','var_', 'median_', 'ptp_']\n",
    "for col in train.columns:\n",
    "  for feat in stats:\n",
    "    if(col.startswith(feat)):\n",
    "      train.drop(col,axis=1,inplace=True)\n",
    "  "
   ]
  },
  {
   "cell_type": "code",
   "execution_count": 0,
   "metadata": {
    "colab": {},
    "colab_type": "code",
    "id": "GtiXF_JtWm4S"
   },
   "outputs": [],
   "source": [
    "stats = ['max_','min_','mean_','std_','var_', 'median_', 'ptp_']\n",
    "for col in test.columns:\n",
    "  for feat in stats:\n",
    "    if(col.startswith(feat)):\n",
    "      test.drop(col,axis=1,inplace=True)"
   ]
  },
  {
   "cell_type": "code",
   "execution_count": 0,
   "metadata": {
    "colab": {
     "base_uri": "https://localhost:8080/",
     "height": 51
    },
    "colab_type": "code",
    "id": "FzxPTz9cOu4o",
    "outputId": "d4546693-fa1f-4788-81c5-f529b98673cb"
   },
   "outputs": [
    {
     "name": "stdout",
     "output_type": "stream",
     "text": [
      "(15539, 611)\n",
      "(5035, 652)\n"
     ]
    }
   ],
   "source": [
    "print(train.shape)\n",
    "print(test.shape)"
   ]
  },
  {
   "cell_type": "code",
   "execution_count": 0,
   "metadata": {
    "colab": {},
    "colab_type": "code",
    "id": "tIxazsCJOu4u"
   },
   "outputs": [],
   "source": [
    "X=train.drop([\"ID\",'target'],axis =1)\n",
    "y = train.target\n",
    "test_id  = test['ID']"
   ]
  },
  {
   "cell_type": "markdown",
   "metadata": {
    "colab_type": "text",
    "id": "wNib_x8NOu4z"
   },
   "source": [
    "## LGBM"
   ]
  },
  {
   "cell_type": "code",
   "execution_count": 0,
   "metadata": {
    "colab": {
     "base_uri": "https://localhost:8080/",
     "height": 1000
    },
    "colab_type": "code",
    "id": "x5UFqYaPOu40",
    "outputId": "b79bed86-31ab-42f6-a370-17654b4fe7e6"
   },
   "outputs": [
    {
     "name": "stdout",
     "output_type": "stream",
     "text": [
      "Epoch :  1\n",
      "Training until validation scores don't improve for 200 rounds.\n",
      "[100]\ttraining's l2: 184.609\tvalid_1's l2: 575.56\n",
      "[200]\ttraining's l2: 72.8576\tvalid_1's l2: 550.746\n",
      "[300]\ttraining's l2: 35.4288\tvalid_1's l2: 547.424\n",
      "[400]\ttraining's l2: 20.1018\tvalid_1's l2: 547.326\n",
      "[500]\ttraining's l2: 12.5132\tvalid_1's l2: 546.324\n",
      "Did not meet early stopping. Best iteration is:\n",
      "[500]\ttraining's l2: 12.5132\tvalid_1's l2: 546.324\n",
      "err:  23.373583833534294\n",
      "Epoch :  2\n",
      "Training until validation scores don't improve for 200 rounds.\n",
      "[100]\ttraining's l2: 185.15\tvalid_1's l2: 535.116\n",
      "[200]\ttraining's l2: 71.6306\tvalid_1's l2: 520.02\n",
      "[300]\ttraining's l2: 35.2116\tvalid_1's l2: 516.614\n",
      "[400]\ttraining's l2: 20.2177\tvalid_1's l2: 514.712\n",
      "[500]\ttraining's l2: 12.9464\tvalid_1's l2: 514.882\n",
      "Did not meet early stopping. Best iteration is:\n",
      "[500]\ttraining's l2: 12.9464\tvalid_1's l2: 514.882\n",
      "err:  22.69100688066376\n",
      "Epoch :  3\n",
      "Training until validation scores don't improve for 200 rounds.\n",
      "[100]\ttraining's l2: 186.526\tvalid_1's l2: 708.391\n",
      "[200]\ttraining's l2: 72.9371\tvalid_1's l2: 684.539\n",
      "[300]\ttraining's l2: 35.347\tvalid_1's l2: 683.886\n",
      "[400]\ttraining's l2: 19.8004\tvalid_1's l2: 679.852\n",
      "[500]\ttraining's l2: 11.8783\tvalid_1's l2: 681.281\n",
      "Did not meet early stopping. Best iteration is:\n",
      "[500]\ttraining's l2: 11.8783\tvalid_1's l2: 681.281\n",
      "err:  26.1013691766373\n",
      "Epoch :  4\n",
      "Training until validation scores don't improve for 200 rounds.\n",
      "[100]\ttraining's l2: 184.294\tvalid_1's l2: 778.147\n",
      "[200]\ttraining's l2: 71.6832\tvalid_1's l2: 750.401\n",
      "[300]\ttraining's l2: 35.1985\tvalid_1's l2: 734.647\n",
      "[400]\ttraining's l2: 19.8409\tvalid_1's l2: 727.567\n",
      "[500]\ttraining's l2: 12.431\tvalid_1's l2: 724.478\n",
      "Did not meet early stopping. Best iteration is:\n",
      "[500]\ttraining's l2: 12.431\tvalid_1's l2: 724.478\n",
      "err:  26.916127752559415\n",
      "Epoch :  5\n",
      "Training until validation scores don't improve for 200 rounds.\n",
      "[100]\ttraining's l2: 185.578\tvalid_1's l2: 642.698\n",
      "[200]\ttraining's l2: 71.6339\tvalid_1's l2: 611.445\n",
      "[300]\ttraining's l2: 34.8281\tvalid_1's l2: 600.67\n",
      "[400]\ttraining's l2: 19.6358\tvalid_1's l2: 591.541\n",
      "[500]\ttraining's l2: 12.2799\tvalid_1's l2: 587.93\n",
      "Did not meet early stopping. Best iteration is:\n",
      "[500]\ttraining's l2: 12.2799\tvalid_1's l2: 587.93\n",
      "err:  24.247262920239706\n",
      "Epoch :  6\n",
      "Training until validation scores don't improve for 200 rounds.\n",
      "[100]\ttraining's l2: 192.647\tvalid_1's l2: 615.582\n",
      "[200]\ttraining's l2: 76.2043\tvalid_1's l2: 576.718\n",
      "[300]\ttraining's l2: 37.0953\tvalid_1's l2: 558.627\n",
      "[400]\ttraining's l2: 20.8206\tvalid_1's l2: 556.147\n",
      "[500]\ttraining's l2: 12.619\tvalid_1's l2: 553.132\n",
      "Did not meet early stopping. Best iteration is:\n",
      "[500]\ttraining's l2: 12.619\tvalid_1's l2: 553.132\n",
      "err:  23.518749686910166\n",
      "Epoch :  7\n",
      "Training until validation scores don't improve for 200 rounds.\n",
      "[100]\ttraining's l2: 188.577\tvalid_1's l2: 661.302\n",
      "[200]\ttraining's l2: 74.3186\tvalid_1's l2: 636.019\n",
      "[300]\ttraining's l2: 36.6212\tvalid_1's l2: 622.259\n",
      "[400]\ttraining's l2: 20.5859\tvalid_1's l2: 619.269\n",
      "[500]\ttraining's l2: 12.7316\tvalid_1's l2: 618.09\n",
      "Did not meet early stopping. Best iteration is:\n",
      "[500]\ttraining's l2: 12.7316\tvalid_1's l2: 618.09\n",
      "err:  24.861416526206146\n",
      "Epoch :  8\n",
      "Training until validation scores don't improve for 200 rounds.\n",
      "[100]\ttraining's l2: 186.866\tvalid_1's l2: 726.128\n",
      "[200]\ttraining's l2: 73.0056\tvalid_1's l2: 684.73\n",
      "[300]\ttraining's l2: 35.7596\tvalid_1's l2: 669.539\n",
      "[400]\ttraining's l2: 20.1192\tvalid_1's l2: 662.122\n",
      "[500]\ttraining's l2: 12.4892\tvalid_1's l2: 655.769\n",
      "Did not meet early stopping. Best iteration is:\n",
      "[500]\ttraining's l2: 12.4892\tvalid_1's l2: 655.769\n",
      "err:  25.607986986049358\n",
      "Epoch :  9\n",
      "Training until validation scores don't improve for 200 rounds.\n",
      "[100]\ttraining's l2: 186.985\tvalid_1's l2: 687.451\n",
      "[200]\ttraining's l2: 72.7466\tvalid_1's l2: 650.223\n",
      "[300]\ttraining's l2: 35.9128\tvalid_1's l2: 636.139\n",
      "[400]\ttraining's l2: 20.3829\tvalid_1's l2: 630.79\n",
      "[500]\ttraining's l2: 12.6803\tvalid_1's l2: 628.59\n",
      "Did not meet early stopping. Best iteration is:\n",
      "[500]\ttraining's l2: 12.6803\tvalid_1's l2: 628.59\n",
      "err:  25.07170340239773\n",
      "Epoch :  10\n",
      "Training until validation scores don't improve for 200 rounds.\n",
      "[100]\ttraining's l2: 187.364\tvalid_1's l2: 679.004\n",
      "[200]\ttraining's l2: 74.8226\tvalid_1's l2: 650.188\n",
      "[300]\ttraining's l2: 37.0544\tvalid_1's l2: 645.437\n",
      "[400]\ttraining's l2: 21.5595\tvalid_1's l2: 638.565\n",
      "[500]\ttraining's l2: 13.6027\tvalid_1's l2: 636.218\n",
      "Did not meet early stopping. Best iteration is:\n",
      "[500]\ttraining's l2: 13.6027\tvalid_1's l2: 636.218\n",
      "err:  25.223361551977774\n",
      "Epoch :  11\n",
      "Training until validation scores don't improve for 200 rounds.\n",
      "[100]\ttraining's l2: 191.218\tvalid_1's l2: 563.322\n",
      "[200]\ttraining's l2: 75.0956\tvalid_1's l2: 535.175\n",
      "[300]\ttraining's l2: 37.1925\tvalid_1's l2: 527.22\n",
      "[400]\ttraining's l2: 21.1074\tvalid_1's l2: 518.199\n",
      "[500]\ttraining's l2: 13.0278\tvalid_1's l2: 514.015\n",
      "Did not meet early stopping. Best iteration is:\n",
      "[500]\ttraining's l2: 13.0278\tvalid_1's l2: 514.015\n",
      "err:  22.671896497920848\n",
      "Epoch :  12\n",
      "Training until validation scores don't improve for 200 rounds.\n",
      "[100]\ttraining's l2: 186.624\tvalid_1's l2: 556.717\n",
      "[200]\ttraining's l2: 74.6072\tvalid_1's l2: 546.597\n",
      "[300]\ttraining's l2: 36.6665\tvalid_1's l2: 537.985\n",
      "[400]\ttraining's l2: 20.6074\tvalid_1's l2: 533.48\n",
      "[500]\ttraining's l2: 12.7747\tvalid_1's l2: 532.35\n",
      "Did not meet early stopping. Best iteration is:\n",
      "[500]\ttraining's l2: 12.7747\tvalid_1's l2: 532.35\n",
      "err:  23.072711795345974\n",
      "Epoch :  13\n",
      "Training until validation scores don't improve for 200 rounds.\n",
      "[100]\ttraining's l2: 188.973\tvalid_1's l2: 561.089\n",
      "[200]\ttraining's l2: 75.7067\tvalid_1's l2: 523.547\n",
      "[300]\ttraining's l2: 37.3227\tvalid_1's l2: 510.881\n",
      "[400]\ttraining's l2: 20.467\tvalid_1's l2: 506.201\n",
      "[500]\ttraining's l2: 12.7806\tvalid_1's l2: 504.804\n",
      "Did not meet early stopping. Best iteration is:\n",
      "[500]\ttraining's l2: 12.7806\tvalid_1's l2: 504.804\n",
      "err:  22.46784041960765\n",
      "Epoch :  14\n",
      "Training until validation scores don't improve for 200 rounds.\n",
      "[100]\ttraining's l2: 189.721\tvalid_1's l2: 611.887\n",
      "[200]\ttraining's l2: 75.1874\tvalid_1's l2: 574.134\n",
      "[300]\ttraining's l2: 37.6705\tvalid_1's l2: 563.301\n",
      "[400]\ttraining's l2: 21.2731\tvalid_1's l2: 558.797\n",
      "[500]\ttraining's l2: 13.1971\tvalid_1's l2: 556.153\n",
      "Did not meet early stopping. Best iteration is:\n",
      "[500]\ttraining's l2: 13.1971\tvalid_1's l2: 556.153\n",
      "err:  23.58288815589739\n",
      "Epoch :  15\n",
      "Training until validation scores don't improve for 200 rounds.\n",
      "[100]\ttraining's l2: 185.878\tvalid_1's l2: 626.166\n",
      "[200]\ttraining's l2: 71.9058\tvalid_1's l2: 588.832\n",
      "[300]\ttraining's l2: 35.5077\tvalid_1's l2: 573.882\n",
      "[400]\ttraining's l2: 20.1463\tvalid_1's l2: 567.286\n",
      "[500]\ttraining's l2: 12.4833\tvalid_1's l2: 565.983\n",
      "Did not meet early stopping. Best iteration is:\n",
      "[500]\ttraining's l2: 12.4833\tvalid_1's l2: 565.983\n",
      "err:  23.79039488089033\n",
      "Epoch :  16\n",
      "Training until validation scores don't improve for 200 rounds.\n",
      "[100]\ttraining's l2: 185.374\tvalid_1's l2: 558.45\n",
      "[200]\ttraining's l2: 71.5198\tvalid_1's l2: 540.633\n",
      "[300]\ttraining's l2: 35.5566\tvalid_1's l2: 547.105\n",
      "Early stopping, best iteration is:\n",
      "[199]\ttraining's l2: 72.2456\tvalid_1's l2: 539.539\n",
      "err:  23.227968872788942\n",
      "Epoch :  17\n",
      "Training until validation scores don't improve for 200 rounds.\n",
      "[100]\ttraining's l2: 186.87\tvalid_1's l2: 689.754\n",
      "[200]\ttraining's l2: 73.5935\tvalid_1's l2: 654.344\n",
      "[300]\ttraining's l2: 36.6595\tvalid_1's l2: 645.563\n",
      "[400]\ttraining's l2: 21.011\tvalid_1's l2: 640.279\n",
      "[500]\ttraining's l2: 13.2039\tvalid_1's l2: 639.43\n",
      "Did not meet early stopping. Best iteration is:\n",
      "[500]\ttraining's l2: 13.2039\tvalid_1's l2: 639.43\n",
      "err:  25.28695734413802\n",
      "Epoch :  18\n",
      "Training until validation scores don't improve for 200 rounds.\n",
      "[100]\ttraining's l2: 185.095\tvalid_1's l2: 648.146\n",
      "[200]\ttraining's l2: 72.9602\tvalid_1's l2: 622.555\n",
      "[300]\ttraining's l2: 36.1912\tvalid_1's l2: 605.347\n",
      "[400]\ttraining's l2: 21.2844\tvalid_1's l2: 601.161\n",
      "[500]\ttraining's l2: 13.6377\tvalid_1's l2: 597.899\n",
      "Did not meet early stopping. Best iteration is:\n",
      "[500]\ttraining's l2: 13.6377\tvalid_1's l2: 597.899\n",
      "err:  24.4519702031251\n",
      "Epoch :  19\n",
      "Training until validation scores don't improve for 200 rounds.\n",
      "[100]\ttraining's l2: 187.263\tvalid_1's l2: 637.923\n",
      "[200]\ttraining's l2: 73.1931\tvalid_1's l2: 607.937\n",
      "[300]\ttraining's l2: 35.8469\tvalid_1's l2: 596.908\n",
      "[400]\ttraining's l2: 20.2315\tvalid_1's l2: 592.528\n",
      "[500]\ttraining's l2: 12.7202\tvalid_1's l2: 590.211\n",
      "Did not meet early stopping. Best iteration is:\n",
      "[500]\ttraining's l2: 12.7202\tvalid_1's l2: 590.211\n",
      "err:  24.294249008422305\n",
      "Epoch :  20\n",
      "Training until validation scores don't improve for 200 rounds.\n",
      "[100]\ttraining's l2: 184.394\tvalid_1's l2: 774.622\n",
      "[200]\ttraining's l2: 73.2054\tvalid_1's l2: 720.579\n",
      "[300]\ttraining's l2: 36.2277\tvalid_1's l2: 712.606\n",
      "[400]\ttraining's l2: 20.4298\tvalid_1's l2: 708.706\n",
      "[500]\ttraining's l2: 12.9418\tvalid_1's l2: 705.053\n",
      "Did not meet early stopping. Best iteration is:\n",
      "[500]\ttraining's l2: 12.9418\tvalid_1's l2: 705.053\n",
      "err:  26.552841512903193\n"
     ]
    },
    {
     "data": {
      "text/plain": [
       "24.350614370410767"
      ]
     },
     "execution_count": 16,
     "metadata": {
      "tags": []
     },
     "output_type": "execute_result"
    }
   ],
   "source": [
    "errcb2=[]\n",
    "y_pred_totcb2=[]\n",
    "from sklearn.model_selection import KFold,StratifiedKFold, TimeSeriesSplit\n",
    "from sklearn.metrics import mean_squared_error\n",
    "fold=KFold(n_splits=20)#15#5#10\n",
    "i=1\n",
    "epoch = 1\n",
    "for train_index, test_index in fold.split(X,y):\n",
    "    print(\"Epoch : \",epoch)\n",
    "    X_train, X_test = X.iloc[train_index], X.iloc[test_index]\n",
    "    y_train, y_test = y.iloc[train_index], y.iloc[test_index]\n",
    "    m2  = LGBMRegressor(boosting_type='gbdt', class_weight=None, colsample_bytree=0.8,\n",
    "              importance_type='split', learning_rate=0.1, max_depth=-1,\n",
    "              min_child_samples=20, min_child_weight=100, min_split_gain=0.0,\n",
    "              n_estimators=500, n_jobs=-1, num_leaves=127,\n",
    "              random_state=None, reg_alpha=0.5, reg_lamda=0.5,silent=True)\n",
    "    m2.fit(X_train,y_train,eval_set=[(X_train,y_train),(X_test, y_test)], early_stopping_rounds=200,verbose=100,)#erly100\n",
    "    preds=m2.predict(X_test)\n",
    "    print(\"err: \",np.sqrt(mean_squared_error(y_test,preds)))\n",
    "    errcb2.append(np.sqrt(mean_squared_error(y_test,preds)))\n",
    "    p2 = m2.predict(test.drop([\"ID\"],axis = 1))\n",
    "    y_pred_totcb2.append(p2)\n",
    "    epoch+=1\n",
    "np.mean(errcb2)"
   ]
  },
  {
   "cell_type": "markdown",
   "metadata": {
    "colab_type": "text",
    "id": "2Kyq1NqgOu45"
   },
   "source": [
    "## CatBoost"
   ]
  },
  {
   "cell_type": "code",
   "execution_count": 0,
   "metadata": {
    "colab": {
     "base_uri": "https://localhost:8080/",
     "height": 1000
    },
    "colab_type": "code",
    "id": "qpR0MzexOu46",
    "outputId": "f4b8a009-4c53-4597-8ef8-278350337466"
   },
   "outputs": [
    {
     "name": "stdout",
     "output_type": "stream",
     "text": [
      "Epoch :  1\n",
      "0:\tlearn: 41.0572147\ttest: 41.0572147\ttest1: 40.8141065\tbest: 40.8141065 (0)\ttotal: 366ms\tremaining: 7m 19s\n",
      "100:\tlearn: 26.4328943\ttest: 26.4328943\ttest1: 30.0433486\tbest: 30.0433486 (100)\ttotal: 20.3s\tremaining: 3m 41s\n",
      "200:\tlearn: 22.5633977\ttest: 22.5633977\ttest1: 29.0936037\tbest: 29.0936037 (200)\ttotal: 39.9s\tremaining: 3m 18s\n",
      "300:\tlearn: 19.7384443\ttest: 19.7384443\ttest1: 28.6768713\tbest: 28.6768713 (300)\ttotal: 59.6s\tremaining: 2m 57s\n",
      "400:\tlearn: 17.4790270\ttest: 17.4790270\ttest1: 28.1654761\tbest: 28.1654761 (400)\ttotal: 1m 19s\tremaining: 2m 37s\n",
      "500:\tlearn: 15.6811635\ttest: 15.6811635\ttest1: 27.9116149\tbest: 27.9009110 (496)\ttotal: 1m 38s\tremaining: 2m 18s\n",
      "600:\tlearn: 14.0580920\ttest: 14.0580920\ttest1: 27.6986635\tbest: 27.6925456 (599)\ttotal: 1m 58s\tremaining: 1m 58s\n",
      "700:\tlearn: 12.7107159\ttest: 12.7107159\ttest1: 27.4541277\tbest: 27.4517435 (699)\ttotal: 2m 18s\tremaining: 1m 38s\n",
      "800:\tlearn: 11.4962407\ttest: 11.4962407\ttest1: 27.2450002\tbest: 27.2450002 (800)\ttotal: 2m 37s\tremaining: 1m 18s\n",
      "900:\tlearn: 10.4376560\ttest: 10.4376560\ttest1: 27.1136924\tbest: 27.1136924 (900)\ttotal: 2m 57s\tremaining: 59s\n",
      "1000:\tlearn: 9.5172087\ttest: 9.5172087\ttest1: 26.9668048\tbest: 26.9613002 (983)\ttotal: 3m 17s\tremaining: 39.3s\n",
      "1100:\tlearn: 8.7185705\ttest: 8.7185705\ttest1: 26.8473930\tbest: 26.8473930 (1100)\ttotal: 3m 37s\tremaining: 19.5s\n",
      "1199:\tlearn: 7.9658960\ttest: 7.9658960\ttest1: 26.7337291\tbest: 26.7321482 (1197)\ttotal: 3m 56s\tremaining: 0us\n",
      "\n",
      "bestTest = 26.73214824\n",
      "bestIteration = 1197\n",
      "\n",
      "Shrink model to first 1198 iterations.\n",
      "err:  26.732148105416453\n",
      "Epoch :  2\n",
      "0:\tlearn: 41.1779985\ttest: 41.1779985\ttest1: 39.0240971\tbest: 39.0240971 (0)\ttotal: 209ms\tremaining: 4m 10s\n",
      "100:\tlearn: 26.6736116\ttest: 26.6736116\ttest1: 26.7887394\tbest: 26.7887394 (100)\ttotal: 20.2s\tremaining: 3m 40s\n",
      "200:\tlearn: 22.7084756\ttest: 22.7084756\ttest1: 26.2497186\tbest: 26.2497186 (200)\ttotal: 39.9s\tremaining: 3m 18s\n",
      "300:\tlearn: 19.7867181\ttest: 19.7867181\ttest1: 25.8325061\tbest: 25.8124406 (295)\ttotal: 59.7s\tremaining: 2m 58s\n",
      "400:\tlearn: 17.5142994\ttest: 17.5142994\ttest1: 25.5043369\tbest: 25.5002289 (395)\ttotal: 1m 19s\tremaining: 2m 38s\n",
      "500:\tlearn: 15.7214183\ttest: 15.7214183\ttest1: 25.1511563\tbest: 25.1448888 (499)\ttotal: 1m 39s\tremaining: 2m 18s\n",
      "600:\tlearn: 14.1502687\ttest: 14.1502687\ttest1: 24.9110449\tbest: 24.9110449 (600)\ttotal: 1m 58s\tremaining: 1m 58s\n",
      "700:\tlearn: 12.7363976\ttest: 12.7363976\ttest1: 24.7114049\tbest: 24.7114049 (700)\ttotal: 2m 18s\tremaining: 1m 38s\n",
      "800:\tlearn: 11.5323695\ttest: 11.5323695\ttest1: 24.5905830\tbest: 24.5905830 (800)\ttotal: 2m 38s\tremaining: 1m 18s\n",
      "900:\tlearn: 10.5036080\ttest: 10.5036080\ttest1: 24.4545721\tbest: 24.4531898 (897)\ttotal: 2m 58s\tremaining: 59.1s\n",
      "1000:\tlearn: 9.5423859\ttest: 9.5423859\ttest1: 24.2884592\tbest: 24.2884592 (1000)\ttotal: 3m 18s\tremaining: 39.4s\n",
      "1100:\tlearn: 8.6888951\ttest: 8.6888951\ttest1: 24.1544821\tbest: 24.1544821 (1100)\ttotal: 3m 37s\tremaining: 19.6s\n",
      "1199:\tlearn: 7.9300803\ttest: 7.9300803\ttest1: 24.0558052\tbest: 24.0465382 (1193)\ttotal: 3m 57s\tremaining: 0us\n",
      "\n",
      "bestTest = 24.04653824\n",
      "bestIteration = 1193\n",
      "\n",
      "Shrink model to first 1194 iterations.\n",
      "err:  24.046538076768734\n",
      "Epoch :  3\n",
      "0:\tlearn: 40.8118648\ttest: 40.8118648\ttest1: 44.1342951\tbest: 44.1342951 (0)\ttotal: 204ms\tremaining: 4m 4s\n",
      "100:\tlearn: 26.0955627\ttest: 26.0955627\ttest1: 34.1764705\tbest: 34.1605266 (99)\ttotal: 20.3s\tremaining: 3m 41s\n",
      "200:\tlearn: 22.1929428\ttest: 22.1929428\ttest1: 33.5342593\tbest: 33.5123205 (197)\ttotal: 40s\tremaining: 3m 18s\n",
      "300:\tlearn: 19.4479905\ttest: 19.4479905\ttest1: 32.8935868\tbest: 32.8821518 (291)\ttotal: 59.7s\tremaining: 2m 58s\n",
      "400:\tlearn: 17.3376959\ttest: 17.3376959\ttest1: 32.5383068\tbest: 32.5383068 (400)\ttotal: 1m 19s\tremaining: 2m 38s\n",
      "500:\tlearn: 15.5531915\ttest: 15.5531915\ttest1: 32.2342266\tbest: 32.2342266 (500)\ttotal: 1m 38s\tremaining: 2m 18s\n",
      "600:\tlearn: 13.9692013\ttest: 13.9692013\ttest1: 32.0778406\tbest: 32.0709583 (599)\ttotal: 1m 58s\tremaining: 1m 58s\n",
      "700:\tlearn: 12.6434327\ttest: 12.6434327\ttest1: 31.8757147\tbest: 31.8640250 (695)\ttotal: 2m 18s\tremaining: 1m 38s\n",
      "800:\tlearn: 11.4856532\ttest: 11.4856532\ttest1: 31.7146911\tbest: 31.7137923 (783)\ttotal: 2m 38s\tremaining: 1m 18s\n",
      "900:\tlearn: 10.4398066\ttest: 10.4398066\ttest1: 31.5692096\tbest: 31.5492315 (892)\ttotal: 2m 58s\tremaining: 59.1s\n",
      "1000:\tlearn: 9.5365286\ttest: 9.5365286\ttest1: 31.3867732\tbest: 31.3846615 (991)\ttotal: 3m 17s\tremaining: 39.3s\n",
      "1100:\tlearn: 8.6855244\ttest: 8.6855244\ttest1: 31.2850849\tbest: 31.2819423 (1096)\ttotal: 3m 37s\tremaining: 19.6s\n",
      "1199:\tlearn: 7.9364305\ttest: 7.9364305\ttest1: 31.1831922\tbest: 31.1818866 (1198)\ttotal: 3m 57s\tremaining: 0us\n",
      "\n",
      "bestTest = 31.18188662\n",
      "bestIteration = 1198\n",
      "\n",
      "Shrink model to first 1199 iterations.\n",
      "err:  31.181886724901737\n",
      "Epoch :  4\n",
      "0:\tlearn: 41.0797955\ttest: 41.0797955\ttest1: 41.9198510\tbest: 41.9198510 (0)\ttotal: 206ms\tremaining: 4m 7s\n",
      "100:\tlearn: 26.3534145\ttest: 26.3534145\ttest1: 30.5496800\tbest: 30.5496800 (100)\ttotal: 20.2s\tremaining: 3m 40s\n",
      "200:\tlearn: 22.3498185\ttest: 22.3498185\ttest1: 29.7068447\tbest: 29.6959674 (199)\ttotal: 39.9s\tremaining: 3m 18s\n",
      "300:\tlearn: 19.6646080\ttest: 19.6646080\ttest1: 29.2522297\tbest: 29.2467179 (297)\ttotal: 59.5s\tremaining: 2m 57s\n",
      "400:\tlearn: 17.4675713\ttest: 17.4675713\ttest1: 28.9093573\tbest: 28.9040743 (398)\ttotal: 1m 19s\tremaining: 2m 37s\n",
      "500:\tlearn: 15.5994570\ttest: 15.5994570\ttest1: 28.6705679\tbest: 28.6705679 (500)\ttotal: 1m 39s\tremaining: 2m 18s\n",
      "600:\tlearn: 14.0266843\ttest: 14.0266843\ttest1: 28.3035084\tbest: 28.2958689 (599)\ttotal: 1m 58s\tremaining: 1m 58s\n",
      "700:\tlearn: 12.6677484\ttest: 12.6677484\ttest1: 28.2246141\tbest: 28.2206391 (667)\ttotal: 2m 18s\tremaining: 1m 38s\n",
      "800:\tlearn: 11.4521321\ttest: 11.4521321\ttest1: 28.0753615\tbest: 28.0716098 (796)\ttotal: 2m 38s\tremaining: 1m 18s\n",
      "900:\tlearn: 10.3877490\ttest: 10.3877490\ttest1: 27.9748493\tbest: 27.9719782 (899)\ttotal: 2m 58s\tremaining: 59.1s\n",
      "1000:\tlearn: 9.4723948\ttest: 9.4723948\ttest1: 27.8838144\tbest: 27.8838144 (1000)\ttotal: 3m 18s\tremaining: 39.4s\n",
      "1100:\tlearn: 8.6666049\ttest: 8.6666049\ttest1: 27.8272330\tbest: 27.8272330 (1100)\ttotal: 3m 37s\tremaining: 19.6s\n",
      "1199:\tlearn: 7.9364599\ttest: 7.9364599\ttest1: 27.7221729\tbest: 27.7107349 (1177)\ttotal: 3m 57s\tremaining: 0us\n",
      "\n",
      "bestTest = 27.71073485\n",
      "bestIteration = 1177\n",
      "\n",
      "Shrink model to first 1178 iterations.\n",
      "err:  27.71073513892977\n",
      "Epoch :  5\n",
      "0:\tlearn: 41.2558935\ttest: 41.2558935\ttest1: 39.2934521\tbest: 39.2934521 (0)\ttotal: 204ms\tremaining: 4m 4s\n",
      "100:\tlearn: 26.4321274\ttest: 26.4321274\ttest1: 30.6763096\tbest: 30.6572460 (97)\ttotal: 20.3s\tremaining: 3m 41s\n",
      "200:\tlearn: 22.5457660\ttest: 22.5457660\ttest1: 29.7292296\tbest: 29.7292296 (200)\ttotal: 40.1s\tremaining: 3m 19s\n",
      "300:\tlearn: 19.7519040\ttest: 19.7519040\ttest1: 29.2151146\tbest: 29.2136056 (299)\ttotal: 59.8s\tremaining: 2m 58s\n",
      "400:\tlearn: 17.5601120\ttest: 17.5601120\ttest1: 28.5702795\tbest: 28.5702795 (400)\ttotal: 1m 19s\tremaining: 2m 38s\n",
      "500:\tlearn: 15.7396698\ttest: 15.7396698\ttest1: 28.1821405\tbest: 28.1821405 (500)\ttotal: 1m 39s\tremaining: 2m 18s\n",
      "600:\tlearn: 14.1336213\ttest: 14.1336213\ttest1: 27.9499308\tbest: 27.9362382 (590)\ttotal: 1m 58s\tremaining: 1m 58s\n",
      "700:\tlearn: 12.7830231\ttest: 12.7830231\ttest1: 27.7316042\tbest: 27.7316042 (700)\ttotal: 2m 18s\tremaining: 1m 38s\n",
      "800:\tlearn: 11.6006019\ttest: 11.6006019\ttest1: 27.4508915\tbest: 27.4468051 (799)\ttotal: 2m 38s\tremaining: 1m 18s\n",
      "900:\tlearn: 10.5666592\ttest: 10.5666592\ttest1: 27.2498231\tbest: 27.2498231 (900)\ttotal: 2m 58s\tremaining: 59.1s\n",
      "1000:\tlearn: 9.5915727\ttest: 9.5915727\ttest1: 27.1036380\tbest: 27.1025356 (998)\ttotal: 3m 18s\tremaining: 39.4s\n",
      "1100:\tlearn: 8.7724471\ttest: 8.7724471\ttest1: 26.9899942\tbest: 26.9899942 (1100)\ttotal: 3m 37s\tremaining: 19.6s\n",
      "1199:\tlearn: 8.0464948\ttest: 8.0464948\ttest1: 26.8140752\tbest: 26.8140752 (1199)\ttotal: 3m 57s\tremaining: 0us\n",
      "\n",
      "bestTest = 26.81407522\n",
      "bestIteration = 1199\n",
      "\n",
      "err:  26.814075285626195\n",
      "Epoch :  6\n",
      "0:\tlearn: 41.0439875\ttest: 41.0439875\ttest1: 42.3213800\tbest: 42.3213800 (0)\ttotal: 203ms\tremaining: 4m 3s\n",
      "100:\tlearn: 26.4030115\ttest: 26.4030115\ttest1: 31.2669735\tbest: 31.2316202 (97)\ttotal: 20.2s\tremaining: 3m 40s\n",
      "200:\tlearn: 22.4464962\ttest: 22.4464962\ttest1: 30.3835411\tbest: 30.3724633 (198)\ttotal: 40s\tremaining: 3m 18s\n",
      "300:\tlearn: 19.6387754\ttest: 19.6387754\ttest1: 29.8939501\tbest: 29.8750708 (299)\ttotal: 59.6s\tremaining: 2m 58s\n",
      "400:\tlearn: 17.4936093\ttest: 17.4936093\ttest1: 29.4359813\tbest: 29.4309796 (398)\ttotal: 1m 19s\tremaining: 2m 37s\n",
      "500:\tlearn: 15.6707647\ttest: 15.6707647\ttest1: 29.1115609\tbest: 29.0952942 (497)\ttotal: 1m 38s\tremaining: 2m 18s\n",
      "600:\tlearn: 14.1790275\ttest: 14.1790275\ttest1: 28.8308533\tbest: 28.8251203 (596)\ttotal: 1m 58s\tremaining: 1m 58s\n",
      "700:\tlearn: 12.7874655\ttest: 12.7874655\ttest1: 28.5772289\tbest: 28.5673783 (692)\ttotal: 2m 18s\tremaining: 1m 38s\n",
      "800:\tlearn: 11.6038368\ttest: 11.6038368\ttest1: 28.4799598\tbest: 28.4799598 (800)\ttotal: 2m 38s\tremaining: 1m 18s\n",
      "900:\tlearn: 10.5366516\ttest: 10.5366516\ttest1: 28.2707633\tbest: 28.2705662 (896)\ttotal: 2m 58s\tremaining: 59.1s\n",
      "1000:\tlearn: 9.5829110\ttest: 9.5829110\ttest1: 28.1448695\tbest: 28.1448695 (1000)\ttotal: 3m 17s\tremaining: 39.3s\n",
      "1100:\tlearn: 8.7625841\ttest: 8.7625841\ttest1: 28.0372220\tbest: 28.0372220 (1100)\ttotal: 3m 37s\tremaining: 19.6s\n",
      "1199:\tlearn: 8.0053388\ttest: 8.0053388\ttest1: 27.9425034\tbest: 27.9410507 (1197)\ttotal: 3m 57s\tremaining: 0us\n",
      "\n",
      "bestTest = 27.94105074\n",
      "bestIteration = 1197\n",
      "\n",
      "Shrink model to first 1198 iterations.\n",
      "err:  27.941050740609587\n",
      "Epoch :  7\n",
      "0:\tlearn: 41.2547517\ttest: 41.2547517\ttest1: 39.5245219\tbest: 39.5245219 (0)\ttotal: 200ms\tremaining: 4m\n",
      "100:\tlearn: 26.3651129\ttest: 26.3651129\ttest1: 30.5081019\tbest: 30.5011779 (99)\ttotal: 20.3s\tremaining: 3m 40s\n",
      "200:\tlearn: 22.3588661\ttest: 22.3588661\ttest1: 29.4455758\tbest: 29.4455758 (200)\ttotal: 40s\tremaining: 3m 18s\n",
      "300:\tlearn: 19.5280025\ttest: 19.5280025\ttest1: 28.7604422\tbest: 28.7574890 (299)\ttotal: 59.8s\tremaining: 2m 58s\n",
      "400:\tlearn: 17.3815802\ttest: 17.3815802\ttest1: 28.4002334\tbest: 28.3919673 (396)\ttotal: 1m 19s\tremaining: 2m 38s\n",
      "500:\tlearn: 15.5751197\ttest: 15.5751197\ttest1: 28.0444181\tbest: 28.0444181 (500)\ttotal: 1m 39s\tremaining: 2m 18s\n",
      "600:\tlearn: 13.9693099\ttest: 13.9693099\ttest1: 27.8003706\tbest: 27.8003706 (600)\ttotal: 1m 59s\tremaining: 1m 58s\n",
      "700:\tlearn: 12.6258164\ttest: 12.6258164\ttest1: 27.5949744\tbest: 27.5902437 (696)\ttotal: 2m 18s\tremaining: 1m 38s\n",
      "800:\tlearn: 11.4738382\ttest: 11.4738382\ttest1: 27.4327391\tbest: 27.4291255 (799)\ttotal: 2m 38s\tremaining: 1m 19s\n",
      "900:\tlearn: 10.4043522\ttest: 10.4043522\ttest1: 27.2905014\tbest: 27.2842887 (898)\ttotal: 2m 58s\tremaining: 59.2s\n",
      "1000:\tlearn: 9.4773425\ttest: 9.4773425\ttest1: 27.2177927\tbest: 27.2170075 (999)\ttotal: 3m 18s\tremaining: 39.4s\n",
      "1100:\tlearn: 8.6601116\ttest: 8.6601116\ttest1: 27.0916060\tbest: 27.0916060 (1100)\ttotal: 3m 38s\tremaining: 19.6s\n",
      "1199:\tlearn: 7.9368003\ttest: 7.9368003\ttest1: 27.0129842\tbest: 27.0129842 (1199)\ttotal: 3m 57s\tremaining: 0us\n",
      "\n",
      "bestTest = 27.01298424\n",
      "bestIteration = 1199\n",
      "\n",
      "err:  27.012984159081316\n",
      "Epoch :  8\n",
      "0:\tlearn: 41.1157246\ttest: 41.1157246\ttest1: 41.0524901\tbest: 41.0524901 (0)\ttotal: 204ms\tremaining: 4m 4s\n",
      "100:\tlearn: 26.4428375\ttest: 26.4428375\ttest1: 30.3141914\tbest: 30.3141914 (100)\ttotal: 20.2s\tremaining: 3m 39s\n",
      "200:\tlearn: 22.5097351\ttest: 22.5097351\ttest1: 29.3900888\tbest: 29.3900888 (200)\ttotal: 39.9s\tremaining: 3m 18s\n",
      "300:\tlearn: 19.6768735\ttest: 19.6768735\ttest1: 28.7456411\tbest: 28.7456411 (300)\ttotal: 59.6s\tremaining: 2m 58s\n",
      "400:\tlearn: 17.4100717\ttest: 17.4100717\ttest1: 28.3058154\tbest: 28.3058154 (400)\ttotal: 1m 19s\tremaining: 2m 38s\n",
      "500:\tlearn: 15.5537279\ttest: 15.5537279\ttest1: 27.9719442\tbest: 27.9690849 (498)\ttotal: 1m 39s\tremaining: 2m 18s\n",
      "600:\tlearn: 13.9775306\ttest: 13.9775306\ttest1: 27.7390998\tbest: 27.7390998 (600)\ttotal: 1m 58s\tremaining: 1m 58s\n",
      "700:\tlearn: 12.6444389\ttest: 12.6444389\ttest1: 27.5464516\tbest: 27.5464516 (700)\ttotal: 2m 18s\tremaining: 1m 38s\n",
      "800:\tlearn: 11.4632749\ttest: 11.4632749\ttest1: 27.3193207\tbest: 27.3141362 (799)\ttotal: 2m 38s\tremaining: 1m 18s\n",
      "900:\tlearn: 10.3907358\ttest: 10.3907358\ttest1: 27.0507499\tbest: 27.0507499 (900)\ttotal: 2m 58s\tremaining: 59.1s\n",
      "1000:\tlearn: 9.4414541\ttest: 9.4414541\ttest1: 26.8679462\tbest: 26.8679462 (1000)\ttotal: 3m 17s\tremaining: 39.3s\n",
      "1100:\tlearn: 8.6071481\ttest: 8.6071481\ttest1: 26.7262412\tbest: 26.7242309 (1099)\ttotal: 3m 37s\tremaining: 19.6s\n",
      "1199:\tlearn: 7.8940626\ttest: 7.8940626\ttest1: 26.6503793\tbest: 26.6459249 (1197)\ttotal: 3m 57s\tremaining: 0us\n",
      "\n",
      "bestTest = 26.64592491\n",
      "bestIteration = 1197\n",
      "\n",
      "Shrink model to first 1198 iterations.\n",
      "err:  26.6459250333684\n",
      "Epoch :  9\n",
      "0:\tlearn: 41.2084451\ttest: 41.2084451\ttest1: 40.4681278\tbest: 40.4681278 (0)\ttotal: 200ms\tremaining: 3m 59s\n",
      "100:\tlearn: 26.4457081\ttest: 26.4457081\ttest1: 29.6549056\tbest: 29.6517710 (98)\ttotal: 20.2s\tremaining: 3m 39s\n",
      "200:\tlearn: 22.5262029\ttest: 22.5262029\ttest1: 28.5904830\tbest: 28.5904830 (200)\ttotal: 40s\tremaining: 3m 18s\n",
      "300:\tlearn: 19.6130836\ttest: 19.6130836\ttest1: 28.0192932\tbest: 28.0192815 (299)\ttotal: 59.9s\tremaining: 2m 58s\n",
      "400:\tlearn: 17.4624318\ttest: 17.4624318\ttest1: 27.6811028\tbest: 27.6811028 (400)\ttotal: 1m 19s\tremaining: 2m 38s\n",
      "500:\tlearn: 15.6578329\ttest: 15.6578329\ttest1: 27.3545917\tbest: 27.3545917 (500)\ttotal: 1m 39s\tremaining: 2m 18s\n",
      "600:\tlearn: 14.0653163\ttest: 14.0653163\ttest1: 27.1135442\tbest: 27.1069067 (597)\ttotal: 1m 59s\tremaining: 1m 58s\n",
      "700:\tlearn: 12.6836576\ttest: 12.6836576\ttest1: 26.8982704\tbest: 26.8982704 (700)\ttotal: 2m 19s\tremaining: 1m 38s\n",
      "800:\tlearn: 11.4798618\ttest: 11.4798618\ttest1: 26.6993845\tbest: 26.6905193 (798)\ttotal: 2m 38s\tremaining: 1m 19s\n",
      "900:\tlearn: 10.4560762\ttest: 10.4560762\ttest1: 26.5626578\tbest: 26.5486877 (888)\ttotal: 2m 58s\tremaining: 59.3s\n",
      "1000:\tlearn: 9.5385955\ttest: 9.5385955\ttest1: 26.5036621\tbest: 26.4728565 (980)\ttotal: 3m 18s\tremaining: 39.5s\n",
      "1100:\tlearn: 8.7094235\ttest: 8.7094235\ttest1: 26.4104608\tbest: 26.4042352 (1098)\ttotal: 3m 38s\tremaining: 19.6s\n",
      "1199:\tlearn: 7.9572662\ttest: 7.9572662\ttest1: 26.3242577\tbest: 26.3111144 (1193)\ttotal: 3m 58s\tremaining: 0us\n",
      "\n",
      "bestTest = 26.31111443\n",
      "bestIteration = 1193\n",
      "\n",
      "Shrink model to first 1194 iterations.\n",
      "err:  26.31111452946703\n",
      "Epoch :  10\n",
      "0:\tlearn: 40.9732228\ttest: 40.9732228\ttest1: 43.5801049\tbest: 43.5801049 (0)\ttotal: 202ms\tremaining: 4m 2s\n",
      "100:\tlearn: 26.4273776\ttest: 26.4273776\ttest1: 30.1228863\tbest: 30.1228863 (100)\ttotal: 20.3s\tremaining: 3m 40s\n",
      "200:\tlearn: 22.5131959\ttest: 22.5131959\ttest1: 28.9273027\tbest: 28.9273027 (200)\ttotal: 40s\tremaining: 3m 18s\n",
      "300:\tlearn: 19.6556669\ttest: 19.6556669\ttest1: 28.2987610\tbest: 28.2965223 (297)\ttotal: 59.8s\tremaining: 2m 58s\n",
      "400:\tlearn: 17.4799865\ttest: 17.4799865\ttest1: 27.9227976\tbest: 27.9127953 (397)\ttotal: 1m 19s\tremaining: 2m 38s\n",
      "500:\tlearn: 15.6708606\ttest: 15.6708606\ttest1: 27.5524728\tbest: 27.5524589 (499)\ttotal: 1m 39s\tremaining: 2m 18s\n",
      "600:\tlearn: 14.0630354\ttest: 14.0630354\ttest1: 27.2343668\tbest: 27.2343668 (600)\ttotal: 1m 59s\tremaining: 1m 58s\n",
      "700:\tlearn: 12.7306253\ttest: 12.7306253\ttest1: 27.0694539\tbest: 27.0589965 (687)\ttotal: 2m 18s\tremaining: 1m 38s\n",
      "800:\tlearn: 11.5425273\ttest: 11.5425273\ttest1: 26.9610419\tbest: 26.9499832 (792)\ttotal: 2m 38s\tremaining: 1m 18s\n",
      "900:\tlearn: 10.5020283\ttest: 10.5020283\ttest1: 26.8435138\tbest: 26.8409024 (899)\ttotal: 2m 58s\tremaining: 59.2s\n",
      "1000:\tlearn: 9.5650751\ttest: 9.5650751\ttest1: 26.7354010\tbest: 26.7320902 (982)\ttotal: 3m 18s\tremaining: 39.4s\n",
      "1100:\tlearn: 8.6966302\ttest: 8.6966302\ttest1: 26.6519621\tbest: 26.6519621 (1100)\ttotal: 3m 38s\tremaining: 19.6s\n",
      "1199:\tlearn: 7.9433566\ttest: 7.9433566\ttest1: 26.5500917\tbest: 26.5500917 (1199)\ttotal: 3m 57s\tremaining: 0us\n",
      "\n",
      "bestTest = 26.55009174\n",
      "bestIteration = 1199\n",
      "\n",
      "err:  26.550091791695795\n",
      "Epoch :  11\n",
      "0:\tlearn: 40.9848952\ttest: 40.9848952\ttest1: 42.0010284\tbest: 42.0010284 (0)\ttotal: 211ms\tremaining: 4m 13s\n",
      "100:\tlearn: 26.5660495\ttest: 26.5660495\ttest1: 28.9953434\tbest: 28.9953434 (100)\ttotal: 20.3s\tremaining: 3m 41s\n",
      "200:\tlearn: 22.7398494\ttest: 22.7398494\ttest1: 27.9909492\tbest: 27.9909492 (200)\ttotal: 40s\tremaining: 3m 18s\n",
      "300:\tlearn: 19.9610143\ttest: 19.9610143\ttest1: 27.2168743\tbest: 27.2168743 (300)\ttotal: 59.6s\tremaining: 2m 58s\n",
      "400:\tlearn: 17.6991876\ttest: 17.6991876\ttest1: 26.9216917\tbest: 26.9213109 (398)\ttotal: 1m 19s\tremaining: 2m 38s\n",
      "500:\tlearn: 15.7546679\ttest: 15.7546679\ttest1: 26.6156925\tbest: 26.6009442 (498)\ttotal: 1m 39s\tremaining: 2m 18s\n",
      "600:\tlearn: 14.1263960\ttest: 14.1263960\ttest1: 26.3082020\tbest: 26.3082020 (600)\ttotal: 1m 58s\tremaining: 1m 58s\n",
      "700:\tlearn: 12.7277803\ttest: 12.7277803\ttest1: 26.1487543\tbest: 26.1407830 (692)\ttotal: 2m 18s\tremaining: 1m 38s\n",
      "800:\tlearn: 11.5007629\ttest: 11.5007629\ttest1: 26.0654412\tbest: 26.0341891 (778)\ttotal: 2m 38s\tremaining: 1m 19s\n",
      "900:\tlearn: 10.4053133\ttest: 10.4053133\ttest1: 25.9380959\tbest: 25.9331575 (894)\ttotal: 2m 58s\tremaining: 59.3s\n",
      "1000:\tlearn: 9.4508053\ttest: 9.4508053\ttest1: 25.8429626\tbest: 25.8429626 (1000)\ttotal: 3m 18s\tremaining: 39.4s\n",
      "1100:\tlearn: 8.6261421\ttest: 8.6261421\ttest1: 25.7480611\tbest: 25.7408224 (1093)\ttotal: 3m 38s\tremaining: 19.6s\n",
      "1199:\tlearn: 7.8692155\ttest: 7.8692155\ttest1: 25.7063050\tbest: 25.6891329 (1146)\ttotal: 3m 57s\tremaining: 0us\n",
      "\n",
      "bestTest = 25.68913293\n",
      "bestIteration = 1146\n",
      "\n",
      "Shrink model to first 1147 iterations.\n",
      "err:  25.68913298373048\n",
      "Epoch :  12\n",
      "0:\tlearn: 41.2238037\ttest: 41.2238037\ttest1: 39.8010237\tbest: 39.8010237 (0)\ttotal: 202ms\tremaining: 4m 1s\n",
      "100:\tlearn: 26.4698271\ttest: 26.4698271\ttest1: 29.1832728\tbest: 29.1720969 (97)\ttotal: 20.3s\tremaining: 3m 41s\n",
      "200:\tlearn: 22.4406715\ttest: 22.4406715\ttest1: 27.8620560\tbest: 27.8619044 (199)\ttotal: 40.1s\tremaining: 3m 19s\n",
      "300:\tlearn: 19.6167764\ttest: 19.6167764\ttest1: 27.2973428\tbest: 27.2900791 (297)\ttotal: 60s\tremaining: 2m 59s\n",
      "400:\tlearn: 17.4219654\ttest: 17.4219654\ttest1: 26.9881181\tbest: 26.9881181 (400)\ttotal: 1m 19s\tremaining: 2m 38s\n",
      "500:\tlearn: 15.5376978\ttest: 15.5376978\ttest1: 26.7540766\tbest: 26.7482961 (496)\ttotal: 1m 39s\tremaining: 2m 18s\n",
      "600:\tlearn: 14.0177013\ttest: 14.0177013\ttest1: 26.5277812\tbest: 26.5268845 (598)\ttotal: 1m 59s\tremaining: 1m 58s\n",
      "700:\tlearn: 12.6750468\ttest: 12.6750468\ttest1: 26.3791627\tbest: 26.3710246 (697)\ttotal: 2m 19s\tremaining: 1m 38s\n",
      "800:\tlearn: 11.4704002\ttest: 11.4704002\ttest1: 26.2107324\tbest: 26.1990273 (797)\ttotal: 2m 38s\tremaining: 1m 19s\n",
      "900:\tlearn: 10.4006371\ttest: 10.4006371\ttest1: 26.0854367\tbest: 26.0821772 (899)\ttotal: 2m 59s\tremaining: 59.4s\n",
      "1000:\tlearn: 9.4468909\ttest: 9.4468909\ttest1: 26.0128923\tbest: 26.0020211 (993)\ttotal: 3m 19s\tremaining: 39.6s\n",
      "1100:\tlearn: 8.6006378\ttest: 8.6006378\ttest1: 25.9155846\tbest: 25.9155846 (1100)\ttotal: 3m 39s\tremaining: 19.8s\n",
      "1199:\tlearn: 7.8966262\ttest: 7.8966262\ttest1: 25.8844495\tbest: 25.8828478 (1198)\ttotal: 3m 59s\tremaining: 0us\n",
      "\n",
      "bestTest = 25.88284775\n",
      "bestIteration = 1198\n",
      "\n",
      "Shrink model to first 1199 iterations.\n",
      "err:  25.882847659648416\n",
      "Epoch :  13\n",
      "0:\tlearn: 41.0926709\ttest: 41.0926709\ttest1: 40.4311354\tbest: 40.4311354 (0)\ttotal: 212ms\tremaining: 4m 13s\n",
      "100:\tlearn: 26.3262659\ttest: 26.3262659\ttest1: 30.3950637\tbest: 30.3950637 (100)\ttotal: 20.5s\tremaining: 3m 42s\n",
      "200:\tlearn: 22.4099310\ttest: 22.4099310\ttest1: 29.6227029\tbest: 29.5972184 (188)\ttotal: 40.4s\tremaining: 3m 20s\n",
      "300:\tlearn: 19.5998755\ttest: 19.5998755\ttest1: 28.9325358\tbest: 28.9310333 (294)\ttotal: 1m\tremaining: 3m\n",
      "400:\tlearn: 17.4249173\ttest: 17.4249173\ttest1: 28.6483087\tbest: 28.6483087 (400)\ttotal: 1m 20s\tremaining: 2m 39s\n",
      "500:\tlearn: 15.6104355\ttest: 15.6104355\ttest1: 28.3482447\tbest: 28.3482447 (500)\ttotal: 1m 40s\tremaining: 2m 19s\n",
      "600:\tlearn: 14.0412935\ttest: 14.0412935\ttest1: 28.0249327\tbest: 28.0249327 (600)\ttotal: 2m\tremaining: 2m\n",
      "700:\tlearn: 12.6742256\ttest: 12.6742256\ttest1: 27.7932665\tbest: 27.7881459 (684)\ttotal: 2m 20s\tremaining: 1m 40s\n",
      "800:\tlearn: 11.4893393\ttest: 11.4893393\ttest1: 27.6397983\tbest: 27.6331056 (795)\ttotal: 2m 40s\tremaining: 1m 19s\n",
      "900:\tlearn: 10.4474273\ttest: 10.4474273\ttest1: 27.4932578\tbest: 27.4831015 (893)\ttotal: 3m\tremaining: 59.9s\n",
      "1000:\tlearn: 9.5073986\ttest: 9.5073986\ttest1: 27.3439887\tbest: 27.3439887 (1000)\ttotal: 3m 20s\tremaining: 39.9s\n",
      "1100:\tlearn: 8.7045386\ttest: 8.7045386\ttest1: 27.2720772\tbest: 27.2720772 (1100)\ttotal: 3m 40s\tremaining: 19.8s\n",
      "1199:\tlearn: 7.9571143\ttest: 7.9571143\ttest1: 27.2190679\tbest: 27.2190679 (1199)\ttotal: 4m\tremaining: 0us\n",
      "\n",
      "bestTest = 27.21906788\n",
      "bestIteration = 1199\n",
      "\n",
      "err:  27.21906794760641\n",
      "Epoch :  14\n",
      "0:\tlearn: 41.2656604\ttest: 41.2656604\ttest1: 39.0083134\tbest: 39.0083134 (0)\ttotal: 209ms\tremaining: 4m 10s\n",
      "100:\tlearn: 26.4482739\ttest: 26.4482739\ttest1: 29.0497175\tbest: 29.0491951 (99)\ttotal: 20.6s\tremaining: 3m 44s\n",
      "200:\tlearn: 22.4732428\ttest: 22.4732428\ttest1: 28.0513505\tbest: 28.0513505 (200)\ttotal: 40.8s\tremaining: 3m 22s\n",
      "300:\tlearn: 19.6853802\ttest: 19.6853802\ttest1: 27.5061224\tbest: 27.5061224 (300)\ttotal: 1m\tremaining: 3m 1s\n",
      "400:\tlearn: 17.5309869\ttest: 17.5309869\ttest1: 27.0939988\tbest: 27.0939988 (400)\ttotal: 1m 20s\tremaining: 2m 41s\n",
      "500:\tlearn: 15.7248984\ttest: 15.7248984\ttest1: 26.9417591\tbest: 26.9334696 (495)\ttotal: 1m 40s\tremaining: 2m 20s\n",
      "600:\tlearn: 14.1444931\ttest: 14.1444931\ttest1: 26.6968080\tbest: 26.6926608 (599)\ttotal: 2m\tremaining: 2m\n",
      "700:\tlearn: 12.7746640\ttest: 12.7746640\ttest1: 26.4992723\tbest: 26.4992723 (700)\ttotal: 2m 20s\tremaining: 1m 40s\n",
      "800:\tlearn: 11.5661490\ttest: 11.5661490\ttest1: 26.2656615\tbest: 26.2547962 (791)\ttotal: 2m 40s\tremaining: 1m 20s\n",
      "900:\tlearn: 10.4960014\ttest: 10.4960014\ttest1: 26.0572630\tbest: 26.0572630 (900)\ttotal: 3m 1s\tremaining: 1m\n",
      "1000:\tlearn: 9.5292919\ttest: 9.5292919\ttest1: 25.9045956\tbest: 25.9045956 (1000)\ttotal: 3m 21s\tremaining: 40s\n",
      "1100:\tlearn: 8.6678442\ttest: 8.6678442\ttest1: 25.7717705\tbest: 25.7717705 (1100)\ttotal: 3m 41s\tremaining: 19.9s\n",
      "1199:\tlearn: 7.9247062\ttest: 7.9247062\ttest1: 25.6440215\tbest: 25.6390157 (1192)\ttotal: 4m\tremaining: 0us\n",
      "\n",
      "bestTest = 25.63901572\n",
      "bestIteration = 1192\n",
      "\n",
      "Shrink model to first 1193 iterations.\n",
      "err:  25.639015326514816\n",
      "Epoch :  15\n",
      "0:\tlearn: 40.9196898\ttest: 40.9196898\ttest1: 43.7575857\tbest: 43.7575857 (0)\ttotal: 210ms\tremaining: 4m 11s\n",
      "100:\tlearn: 26.2675225\ttest: 26.2675225\ttest1: 32.9795388\tbest: 32.9795388 (100)\ttotal: 24s\tremaining: 4m 21s\n",
      "200:\tlearn: 22.2863348\ttest: 22.2863348\ttest1: 31.8433854\tbest: 31.8433854 (200)\ttotal: 43.7s\tremaining: 3m 37s\n",
      "300:\tlearn: 19.5480575\ttest: 19.5480575\ttest1: 31.1952538\tbest: 31.1927901 (293)\ttotal: 1m 3s\tremaining: 3m 9s\n",
      "400:\tlearn: 17.2428571\ttest: 17.2428571\ttest1: 30.7347373\tbest: 30.7268672 (399)\ttotal: 1m 23s\tremaining: 2m 45s\n",
      "500:\tlearn: 15.4083981\ttest: 15.4083981\ttest1: 30.5497135\tbest: 30.5497135 (500)\ttotal: 1m 43s\tremaining: 2m 23s\n",
      "600:\tlearn: 13.8801008\ttest: 13.8801008\ttest1: 30.3294040\tbest: 30.3294040 (600)\ttotal: 2m 2s\tremaining: 2m 2s\n",
      "700:\tlearn: 12.5378458\ttest: 12.5378458\ttest1: 30.1794042\tbest: 30.1794042 (700)\ttotal: 2m 22s\tremaining: 1m 41s\n",
      "800:\tlearn: 11.3615471\ttest: 11.3615471\ttest1: 29.9469186\tbest: 29.9469186 (800)\ttotal: 2m 42s\tremaining: 1m 20s\n",
      "900:\tlearn: 10.3174392\ttest: 10.3174392\ttest1: 29.8352982\tbest: 29.8255177 (893)\ttotal: 3m 2s\tremaining: 1m\n",
      "1000:\tlearn: 9.3660625\ttest: 9.3660625\ttest1: 29.6919056\tbest: 29.6911146 (999)\ttotal: 3m 22s\tremaining: 40.2s\n",
      "1100:\tlearn: 8.5519162\ttest: 8.5519162\ttest1: 29.6036981\tbest: 29.6036981 (1100)\ttotal: 3m 42s\tremaining: 20s\n",
      "1199:\tlearn: 7.8252655\ttest: 7.8252655\ttest1: 29.5413732\tbest: 29.5406034 (1198)\ttotal: 4m 2s\tremaining: 0us\n",
      "\n",
      "bestTest = 29.54060336\n",
      "bestIteration = 1198\n",
      "\n",
      "Shrink model to first 1199 iterations.\n",
      "err:  29.540603502625203\n"
     ]
    },
    {
     "data": {
      "text/plain": [
       "26.994481133732688"
      ]
     },
     "execution_count": 17,
     "metadata": {
      "tags": []
     },
     "output_type": "execute_result"
    }
   ],
   "source": [
    "errcb2=[]\n",
    "y_pred_totcb2=[]\n",
    "from sklearn.model_selection import KFold,StratifiedKFold, TimeSeriesSplit\n",
    "from sklearn.metrics import mean_squared_error\n",
    "fold=KFold(n_splits=15)#15#5#10\n",
    "i=1\n",
    "epoch = 1\n",
    "for train_index, test_index in fold.split(X,y):\n",
    "    print(\"Epoch : \",epoch)\n",
    "    X_train, X_test = X.iloc[train_index], X.iloc[test_index]\n",
    "    y_train, y_test = y.iloc[train_index], y.iloc[test_index]\n",
    "    m2  = CatBoostRegressor(n_estimators=1200,eval_metric='RMSE',learning_rate=0.125, random_seed= 42, use_best_model=True )\n",
    "    # m2  = CatBoostRegressor(learning_rate=0.1, max_depth=-1,\n",
    "    #       min_child_samples=20, eval_metric='RMSE',\n",
    "    #       n_estimators=750, num_leaves=127,\n",
    "    #       random_state=None, silent=True)\n",
    "    m2.fit(X_train,y_train,eval_set=[(X_train,y_train),(X_test, y_test)], early_stopping_rounds=200,verbose=100,)#erly100\n",
    "    preds=m2.predict(X_test)\n",
    "    print(\"err: \",np.sqrt(mean_squared_error(y_test,preds)))\n",
    "    errcb2.append(np.sqrt(mean_squared_error(y_test,preds)))\n",
    "    p2 = m2.predict(test.drop([\"ID\"],axis = 1))\n",
    "    y_pred_totcb2.append(p2)\n",
    "    epoch += 1\n",
    "np.mean(errcb2)"
   ]
  },
  {
   "cell_type": "code",
   "execution_count": 0,
   "metadata": {
    "colab": {
     "base_uri": "https://localhost:8080/",
     "height": 34
    },
    "colab_type": "code",
    "id": "DCIzJJznOu5O",
    "outputId": "3b2b40bf-fb68-408f-a1fd-85f0b8d0b6f7"
   },
   "outputs": [
    {
     "data": {
      "text/plain": [
       "26.994481133732688"
      ]
     },
     "execution_count": 18,
     "metadata": {
      "tags": []
     },
     "output_type": "execute_result"
    }
   ],
   "source": [
    "np.mean(errcb2)"
   ]
  },
  {
   "cell_type": "markdown",
   "metadata": {},
   "source": [
    "## Submission"
   ]
  },
  {
   "cell_type": "code",
   "execution_count": 0,
   "metadata": {
    "colab": {},
    "colab_type": "code",
    "id": "FfZM8WVtOu5T"
   },
   "outputs": [],
   "source": [
    "d = {'ID': test_id, 'target': np.mean(y_pred_totcb2, 0)}\n",
    "sub = pd.DataFrame(data=d)\n",
    "sub = sub[['ID', 'target']]\n",
    "sub.target.min(),sub.target.max()\n",
    "sub.to_csv(\"submission.csv\",index  = False)"
   ]
  }
 ],
 "metadata": {
  "colab": {
   "name": "AirQoCode.ipynb",
   "provenance": []
  },
  "kernelspec": {
   "display_name": "Python 3",
   "language": "python",
   "name": "python3"
  },
  "language_info": {
   "codemirror_mode": {
    "name": "ipython",
    "version": 3
   },
   "file_extension": ".py",
   "mimetype": "text/x-python",
   "name": "python",
   "nbconvert_exporter": "python",
   "pygments_lexer": "ipython3",
   "version": "3.6.9"
  }
 },
 "nbformat": 4,
 "nbformat_minor": 1
}
